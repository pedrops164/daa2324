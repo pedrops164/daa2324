{
 "cells": [
  {
   "cell_type": "markdown",
   "metadata": {},
   "source": [
    "# Feature Engineering\n",
    "\n",
    "Parte: Drikz\n",
    "\n",
    "Features:\n",
    "* New_Price\n",
    "* Power\n",
    "* Location"
   ]
  },
  {
   "cell_type": "code",
   "execution_count": 1,
   "metadata": {},
   "outputs": [],
   "source": [
    "import pandas as pd\n",
    "import matplotlib.pyplot as plt\n",
    "import seaborn as sns\n",
    "import numpy as np"
   ]
  },
  {
   "cell_type": "code",
   "execution_count": 2,
   "metadata": {},
   "outputs": [
    {
     "data": {
      "text/html": [
       "<div>\n",
       "<style scoped>\n",
       "    .dataframe tbody tr th:only-of-type {\n",
       "        vertical-align: middle;\n",
       "    }\n",
       "\n",
       "    .dataframe tbody tr th {\n",
       "        vertical-align: top;\n",
       "    }\n",
       "\n",
       "    .dataframe thead th {\n",
       "        text-align: right;\n",
       "    }\n",
       "</style>\n",
       "<table border=\"1\" class=\"dataframe\">\n",
       "  <thead>\n",
       "    <tr style=\"text-align: right;\">\n",
       "      <th></th>\n",
       "      <th>Unnamed: 0</th>\n",
       "      <th>Name</th>\n",
       "      <th>Location</th>\n",
       "      <th>Year</th>\n",
       "      <th>Kilometers_Driven</th>\n",
       "      <th>Fuel_Type</th>\n",
       "      <th>Transmission</th>\n",
       "      <th>Owner_Type</th>\n",
       "      <th>Mileage</th>\n",
       "      <th>Engine</th>\n",
       "      <th>Power</th>\n",
       "      <th>Seats</th>\n",
       "      <th>New_Price</th>\n",
       "      <th>Price</th>\n",
       "    </tr>\n",
       "  </thead>\n",
       "  <tbody>\n",
       "    <tr>\n",
       "      <th>0</th>\n",
       "      <td>1</td>\n",
       "      <td>Hyundai Creta 1.6 CRDi SX Option</td>\n",
       "      <td>Pune</td>\n",
       "      <td>2015</td>\n",
       "      <td>41000</td>\n",
       "      <td>Diesel</td>\n",
       "      <td>Manual</td>\n",
       "      <td>First</td>\n",
       "      <td>19.67 kmpl</td>\n",
       "      <td>1582 CC</td>\n",
       "      <td>126.2 bhp</td>\n",
       "      <td>5.0</td>\n",
       "      <td>NaN</td>\n",
       "      <td>12.50</td>\n",
       "    </tr>\n",
       "    <tr>\n",
       "      <th>1</th>\n",
       "      <td>2</td>\n",
       "      <td>Honda Jazz V</td>\n",
       "      <td>Chennai</td>\n",
       "      <td>2011</td>\n",
       "      <td>46000</td>\n",
       "      <td>Petrol</td>\n",
       "      <td>Manual</td>\n",
       "      <td>First</td>\n",
       "      <td>13 km/kg</td>\n",
       "      <td>1199 CC</td>\n",
       "      <td>88.7 bhp</td>\n",
       "      <td>5.0</td>\n",
       "      <td>8.61 Lakh</td>\n",
       "      <td>4.50</td>\n",
       "    </tr>\n",
       "    <tr>\n",
       "      <th>2</th>\n",
       "      <td>3</td>\n",
       "      <td>Maruti Ertiga VDI</td>\n",
       "      <td>Chennai</td>\n",
       "      <td>2012</td>\n",
       "      <td>87000</td>\n",
       "      <td>Diesel</td>\n",
       "      <td>Manual</td>\n",
       "      <td>First</td>\n",
       "      <td>20.77 kmpl</td>\n",
       "      <td>1248 CC</td>\n",
       "      <td>88.76 bhp</td>\n",
       "      <td>7.0</td>\n",
       "      <td>NaN</td>\n",
       "      <td>6.00</td>\n",
       "    </tr>\n",
       "    <tr>\n",
       "      <th>3</th>\n",
       "      <td>4</td>\n",
       "      <td>Audi A4 New 2.0 TDI Multitronic</td>\n",
       "      <td>Coimbatore</td>\n",
       "      <td>2013</td>\n",
       "      <td>40670</td>\n",
       "      <td>Diesel</td>\n",
       "      <td>Automatic</td>\n",
       "      <td>Second</td>\n",
       "      <td>15.2 kmpl</td>\n",
       "      <td>1968 CC</td>\n",
       "      <td>140.8 bhp</td>\n",
       "      <td>5.0</td>\n",
       "      <td>NaN</td>\n",
       "      <td>17.74</td>\n",
       "    </tr>\n",
       "    <tr>\n",
       "      <th>4</th>\n",
       "      <td>6</td>\n",
       "      <td>Nissan Micra Diesel XV</td>\n",
       "      <td>Jaipur</td>\n",
       "      <td>2013</td>\n",
       "      <td>86999</td>\n",
       "      <td>Diesel</td>\n",
       "      <td>Manual</td>\n",
       "      <td>First</td>\n",
       "      <td>23.08 kmpl</td>\n",
       "      <td>1461 CC</td>\n",
       "      <td>63.1 bhp</td>\n",
       "      <td>5.0</td>\n",
       "      <td>NaN</td>\n",
       "      <td>3.50</td>\n",
       "    </tr>\n",
       "  </tbody>\n",
       "</table>\n",
       "</div>"
      ],
      "text/plain": [
       "   Unnamed: 0                              Name    Location  Year  \\\n",
       "0           1  Hyundai Creta 1.6 CRDi SX Option        Pune  2015   \n",
       "1           2                      Honda Jazz V     Chennai  2011   \n",
       "2           3                 Maruti Ertiga VDI     Chennai  2012   \n",
       "3           4   Audi A4 New 2.0 TDI Multitronic  Coimbatore  2013   \n",
       "4           6            Nissan Micra Diesel XV      Jaipur  2013   \n",
       "\n",
       "   Kilometers_Driven Fuel_Type Transmission Owner_Type     Mileage   Engine  \\\n",
       "0              41000    Diesel       Manual      First  19.67 kmpl  1582 CC   \n",
       "1              46000    Petrol       Manual      First    13 km/kg  1199 CC   \n",
       "2              87000    Diesel       Manual      First  20.77 kmpl  1248 CC   \n",
       "3              40670    Diesel    Automatic     Second   15.2 kmpl  1968 CC   \n",
       "4              86999    Diesel       Manual      First  23.08 kmpl  1461 CC   \n",
       "\n",
       "       Power  Seats  New_Price  Price  \n",
       "0  126.2 bhp    5.0        NaN  12.50  \n",
       "1   88.7 bhp    5.0  8.61 Lakh   4.50  \n",
       "2  88.76 bhp    7.0        NaN   6.00  \n",
       "3  140.8 bhp    5.0        NaN  17.74  \n",
       "4   63.1 bhp    5.0        NaN   3.50  "
      ]
     },
     "execution_count": 2,
     "metadata": {},
     "output_type": "execute_result"
    }
   ],
   "source": [
    "# import data\n",
    "data = pd.read_csv('../input/train.csv')\n",
    "# visualize first 5 rows\n",
    "data.head()"
   ]
  },
  {
   "cell_type": "code",
   "execution_count": 3,
   "metadata": {},
   "outputs": [
    {
     "name": "stdout",
     "output_type": "stream",
     "text": [
      "Unnamed: 0              0\n",
      "Name                    0\n",
      "Location                0\n",
      "Year                    0\n",
      "Kilometers_Driven       0\n",
      "Fuel_Type               0\n",
      "Transmission            0\n",
      "Owner_Type              0\n",
      "Mileage                 2\n",
      "Engine                 36\n",
      "Power                  36\n",
      "Seats                  38\n",
      "New_Price            5032\n",
      "Price                   0\n",
      "dtype: int64\n"
     ]
    }
   ],
   "source": [
    "print(data.isnull().sum())"
   ]
  },
  {
   "cell_type": "markdown",
   "metadata": {},
   "source": [
    "# Location"
   ]
  },
  {
   "cell_type": "code",
   "execution_count": 4,
   "metadata": {},
   "outputs": [
    {
     "name": "stdout",
     "output_type": "stream",
     "text": [
      "['Pune' 'Chennai' 'Coimbatore' 'Jaipur' 'Mumbai' 'Kochi' 'Kolkata' 'Delhi'\n",
      " 'Bangalore' 'Hyderabad' 'Ahmedabad']\n"
     ]
    }
   ],
   "source": [
    "print(data['Location'].unique())"
   ]
  },
  {
   "cell_type": "code",
   "execution_count": 5,
   "metadata": {},
   "outputs": [
    {
     "name": "stdout",
     "output_type": "stream",
     "text": [
      "Zonas mais caras:\n",
      "                 mean  median   min    max\n",
      "Location                                  \n",
      "Coimbatore  15.160206    8.36  1.68  93.67\n",
      "Bangalore   13.482670    6.97  1.65  93.00\n",
      "Kochi       11.309109    6.81  1.26  97.07\n",
      "\n",
      "Zonas mais baratas:\n",
      "              mean  median   min   max\n",
      "Location                              \n",
      "Pune      6.951000    4.50  0.44  68.0\n",
      "Jaipur    5.916725    4.25  0.45  42.5\n",
      "Kolkata   5.733924    3.75  0.65  75.0\n"
     ]
    }
   ],
   "source": [
    "grouped_data = data.groupby('Location')\n",
    "location_stats = grouped_data['Price'].agg(['mean', 'median', 'min', 'max'])\n",
    "location_stats_sorted = location_stats.sort_values(by='mean', ascending=False)\n",
    "\n",
    "print(\"Zonas mais caras:\")\n",
    "print(location_stats_sorted.head(3))\n",
    "print(\"\\nZonas mais baratas:\")\n",
    "print(location_stats_sorted.tail(3))"
   ]
  },
  {
   "cell_type": "markdown",
   "metadata": {},
   "source": [
    "Percentagem de automóveis por localidade"
   ]
  },
  {
   "cell_type": "code",
   "execution_count": 6,
   "metadata": {},
   "outputs": [
    {
     "data": {
      "image/png": "[encoded data removed]",
      "text/plain": [
       "<Figure size 600x600 with 1 Axes>"
      ]
     },
     "metadata": {},
     "output_type": "display_data"
    }
   ],
   "source": [
    "state_percentage = data['Location'].value_counts(normalize=True) * 100\n",
    "\n",
    "plt.figure(figsize=(6, 6))\n",
    "plt.pie(state_percentage, labels=state_percentage.index, autopct='%1.2f%%', startangle=140)\n",
    "plt.axis('equal')\n",
    "\n",
    "plt.show()"
   ]
  },
  {
   "cell_type": "markdown",
   "metadata": {},
   "source": [
    "# Power"
   ]
  },
  {
   "cell_type": "markdown",
   "metadata": {},
   "source": [
    "Esta feature descreve a potência do motor em brake horsepower (bhp).\n",
    "\n",
    "Quanto maior o número de \"bhp\", maior é a potência do moto, o que resulta num melhor desempenho do veículo."
   ]
  },
  {
   "cell_type": "markdown",
   "metadata": {},
   "source": [
    "Primeiro vamos verificar o número de missing values neste atributo."
   ]
  },
  {
   "cell_type": "code",
   "execution_count": 7,
   "metadata": {},
   "outputs": [
    {
     "name": "stdout",
     "output_type": "stream",
     "text": [
      "Número de missing values na feature \"Power\":\n",
      "36\n"
     ]
    }
   ],
   "source": [
    "print('Número de missing values na feature \"Power\":')\n",
    "print(data['Power'].isnull().sum())"
   ]
  },
  {
   "cell_type": "code",
   "execution_count": 8,
   "metadata": {},
   "outputs": [
    {
     "data": {
      "text/html": [
       "<div>\n",
       "<style scoped>\n",
       "    .dataframe tbody tr th:only-of-type {\n",
       "        vertical-align: middle;\n",
       "    }\n",
       "\n",
       "    .dataframe tbody tr th {\n",
       "        vertical-align: top;\n",
       "    }\n",
       "\n",
       "    .dataframe thead th {\n",
       "        text-align: right;\n",
       "    }\n",
       "</style>\n",
       "<table border=\"1\" class=\"dataframe\">\n",
       "  <thead>\n",
       "    <tr style=\"text-align: right;\">\n",
       "      <th></th>\n",
       "      <th>Unnamed: 0</th>\n",
       "      <th>Name</th>\n",
       "      <th>Location</th>\n",
       "      <th>Year</th>\n",
       "      <th>Kilometers_Driven</th>\n",
       "      <th>Fuel_Type</th>\n",
       "      <th>Transmission</th>\n",
       "      <th>Owner_Type</th>\n",
       "      <th>Mileage</th>\n",
       "      <th>Engine</th>\n",
       "      <th>Power</th>\n",
       "      <th>Seats</th>\n",
       "      <th>New_Price</th>\n",
       "      <th>Price</th>\n",
       "    </tr>\n",
       "  </thead>\n",
       "  <tbody>\n",
       "    <tr>\n",
       "      <th>0</th>\n",
       "      <td>1</td>\n",
       "      <td>Hyundai Creta 1.6 CRDi SX Option</td>\n",
       "      <td>Pune</td>\n",
       "      <td>2015</td>\n",
       "      <td>41000</td>\n",
       "      <td>Diesel</td>\n",
       "      <td>Manual</td>\n",
       "      <td>First</td>\n",
       "      <td>19.67 kmpl</td>\n",
       "      <td>1582 CC</td>\n",
       "      <td>126.20</td>\n",
       "      <td>5.0</td>\n",
       "      <td>NaN</td>\n",
       "      <td>12.50</td>\n",
       "    </tr>\n",
       "    <tr>\n",
       "      <th>1</th>\n",
       "      <td>2</td>\n",
       "      <td>Honda Jazz V</td>\n",
       "      <td>Chennai</td>\n",
       "      <td>2011</td>\n",
       "      <td>46000</td>\n",
       "      <td>Petrol</td>\n",
       "      <td>Manual</td>\n",
       "      <td>First</td>\n",
       "      <td>13 km/kg</td>\n",
       "      <td>1199 CC</td>\n",
       "      <td>88.70</td>\n",
       "      <td>5.0</td>\n",
       "      <td>8.61 Lakh</td>\n",
       "      <td>4.50</td>\n",
       "    </tr>\n",
       "    <tr>\n",
       "      <th>2</th>\n",
       "      <td>3</td>\n",
       "      <td>Maruti Ertiga VDI</td>\n",
       "      <td>Chennai</td>\n",
       "      <td>2012</td>\n",
       "      <td>87000</td>\n",
       "      <td>Diesel</td>\n",
       "      <td>Manual</td>\n",
       "      <td>First</td>\n",
       "      <td>20.77 kmpl</td>\n",
       "      <td>1248 CC</td>\n",
       "      <td>88.76</td>\n",
       "      <td>7.0</td>\n",
       "      <td>NaN</td>\n",
       "      <td>6.00</td>\n",
       "    </tr>\n",
       "    <tr>\n",
       "      <th>3</th>\n",
       "      <td>4</td>\n",
       "      <td>Audi A4 New 2.0 TDI Multitronic</td>\n",
       "      <td>Coimbatore</td>\n",
       "      <td>2013</td>\n",
       "      <td>40670</td>\n",
       "      <td>Diesel</td>\n",
       "      <td>Automatic</td>\n",
       "      <td>Second</td>\n",
       "      <td>15.2 kmpl</td>\n",
       "      <td>1968 CC</td>\n",
       "      <td>140.80</td>\n",
       "      <td>5.0</td>\n",
       "      <td>NaN</td>\n",
       "      <td>17.74</td>\n",
       "    </tr>\n",
       "    <tr>\n",
       "      <th>4</th>\n",
       "      <td>6</td>\n",
       "      <td>Nissan Micra Diesel XV</td>\n",
       "      <td>Jaipur</td>\n",
       "      <td>2013</td>\n",
       "      <td>86999</td>\n",
       "      <td>Diesel</td>\n",
       "      <td>Manual</td>\n",
       "      <td>First</td>\n",
       "      <td>23.08 kmpl</td>\n",
       "      <td>1461 CC</td>\n",
       "      <td>63.10</td>\n",
       "      <td>5.0</td>\n",
       "      <td>NaN</td>\n",
       "      <td>3.50</td>\n",
       "    </tr>\n",
       "  </tbody>\n",
       "</table>\n",
       "</div>"
      ],
      "text/plain": [
       "   Unnamed: 0                              Name    Location  Year  \\\n",
       "0           1  Hyundai Creta 1.6 CRDi SX Option        Pune  2015   \n",
       "1           2                      Honda Jazz V     Chennai  2011   \n",
       "2           3                 Maruti Ertiga VDI     Chennai  2012   \n",
       "3           4   Audi A4 New 2.0 TDI Multitronic  Coimbatore  2013   \n",
       "4           6            Nissan Micra Diesel XV      Jaipur  2013   \n",
       "\n",
       "   Kilometers_Driven Fuel_Type Transmission Owner_Type     Mileage   Engine  \\\n",
       "0              41000    Diesel       Manual      First  19.67 kmpl  1582 CC   \n",
       "1              46000    Petrol       Manual      First    13 km/kg  1199 CC   \n",
       "2              87000    Diesel       Manual      First  20.77 kmpl  1248 CC   \n",
       "3              40670    Diesel    Automatic     Second   15.2 kmpl  1968 CC   \n",
       "4              86999    Diesel       Manual      First  23.08 kmpl  1461 CC   \n",
       "\n",
       "    Power  Seats  New_Price  Price  \n",
       "0  126.20    5.0        NaN  12.50  \n",
       "1   88.70    5.0  8.61 Lakh   4.50  \n",
       "2   88.76    7.0        NaN   6.00  \n",
       "3  140.80    5.0        NaN  17.74  \n",
       "4   63.10    5.0        NaN   3.50  "
      ]
     },
     "execution_count": 8,
     "metadata": {},
     "output_type": "execute_result"
    }
   ],
   "source": [
    "data['Power'] = data['Power'].str.rstrip(' bhp').astype(float)\n",
    "data.head()"
   ]
  },
  {
   "cell_type": "code",
   "execution_count": 9,
   "metadata": {},
   "outputs": [
    {
     "name": "stdout",
     "output_type": "stream",
     "text": [
      "Correlação entre as features \"Power\" e \"Price\": 0.77\n"
     ]
    }
   ],
   "source": [
    "correlation = data['Power'].corr(data['Price'])\n",
    "print(f'Correlação entre as features \"Power\" e \"Price\": {correlation:.2f}')\n"
   ]
  },
  {
   "cell_type": "code",
   "execution_count": 10,
   "metadata": {},
   "outputs": [
    {
     "name": "stdout",
     "output_type": "stream",
     "text": [
      "      Unnamed: 0                                          Name    Location  \\\n",
      "186          194                            Honda City 1.5 GXI   Ahmedabad   \n",
      "200          208                          Maruti Swift 1.3 VXi     Kolkata   \n",
      "709          733                          Maruti Swift 1.3 VXi     Chennai   \n",
      "723          749                  Land Rover Range Rover 3.0 D      Mumbai   \n",
      "1253        1294                             Honda City 1.3 DX       Delhi   \n",
      "1284        1327                          Maruti Swift 1.3 ZXI   Hyderabad   \n",
      "1339        1385                            Honda City 1.5 GXI        Pune   \n",
      "1412        1460  Land Rover Range Rover Sport 2005 2012 Sport  Coimbatore   \n",
      "2014        2074                          Maruti Swift 1.3 LXI        Pune   \n",
      "2036        2096                     Hyundai Santro LP zipPlus  Coimbatore   \n",
      "2199        2264                           Toyota Etios Liva V        Pune   \n",
      "2256        2325                      Maruti Swift 1.3 VXI ABS        Pune   \n",
      "2266        2335                          Maruti Swift 1.3 VXi      Mumbai   \n",
      "2447        2530                       BMW 5 Series 520d Sedan       Kochi   \n",
      "2459        2542               Hyundai Santro GLS II - Euro II   Bangalore   \n",
      "2538        2623                       BMW 5 Series 520d Sedan        Pune   \n",
      "2580        2668                          Maruti Swift 1.3 VXi     Kolkata   \n",
      "2648        2737                             Maruti Wagon R Vx      Jaipur   \n",
      "2691        2780               Hyundai Santro GLS II - Euro II        Pune   \n",
      "2753        2842               Hyundai Santro GLS II - Euro II   Bangalore   \n",
      "3170        3272                       BMW 5 Series 520d Sedan      Mumbai   \n",
      "3300        3404                          Maruti Swift 1.3 VXi      Jaipur   \n",
      "3412        3520                       BMW 5 Series 520d Sedan       Delhi   \n",
      "3414        3522               Hyundai Santro GLS II - Euro II       Kochi   \n",
      "3690        3810                   Honda CR-V AT With Sun Roof     Kolkata   \n",
      "3885        4011                        Fiat Punto 1.3 Emotion        Pune   \n",
      "4022        4152                  Land Rover Range Rover 3.0 D      Mumbai   \n",
      "4099        4229                        Hyundai Santro Xing XG   Bangalore   \n",
      "4444        4577                       BMW 5 Series 520d Sedan       Delhi   \n",
      "4470        4604                     Honda Jazz Select Edition        Pune   \n",
      "4562        4697                        Fiat Punto 1.2 Dynamic       Kochi   \n",
      "4576        4712                        Hyundai Santro Xing XG        Pune   \n",
      "4809        4952                        Fiat Punto 1.4 Emotion     Kolkata   \n",
      "4870        5015                          Maruti Swift 1.3 VXi       Delhi   \n",
      "5037        5185                          Maruti Swift 1.3 LXI       Delhi   \n",
      "5121        5270                            Honda City 1.5 GXI   Bangalore   \n",
      "\n",
      "      Year  Kilometers_Driven Fuel_Type Transmission      Owner_Type  \\\n",
      "186   2007              60006    Petrol       Manual           First   \n",
      "200   2010              42001    Petrol       Manual           First   \n",
      "709   2006              97800    Petrol       Manual           Third   \n",
      "723   2008              55001    Diesel    Automatic          Second   \n",
      "1253  2009              55005    Petrol       Manual           First   \n",
      "1284  2015              50295    Petrol       Manual           First   \n",
      "1339  2004             115000    Petrol       Manual          Second   \n",
      "1412  2008              69078    Petrol       Manual           First   \n",
      "2014  2011              24255    Petrol       Manual           First   \n",
      "2036  2004              52146    Petrol       Manual           First   \n",
      "2199  2012              24500    Petrol       Manual          Second   \n",
      "2256  2015              67000    Petrol       Manual           First   \n",
      "2266  2007              55000    Petrol       Manual          Second   \n",
      "2447  2014              64158    Diesel    Automatic           First   \n",
      "2459  2011              65000    Petrol       Manual          Second   \n",
      "2538  2012              95000    Diesel    Automatic          Second   \n",
      "2580  2014              32986    Petrol       Manual           First   \n",
      "2648  2001             200000    Petrol       Manual           First   \n",
      "2691  2009             100000    Petrol       Manual           First   \n",
      "2753  2012              43000    Petrol       Manual           First   \n",
      "3170  2008              81000    Diesel    Automatic          Second   \n",
      "3300  2006             125000    Petrol       Manual  Fourth & Above   \n",
      "3412  2012              90000    Diesel    Automatic           First   \n",
      "3414  2012              66400    Petrol       Manual           First   \n",
      "3690  2013              27000    Petrol    Automatic           First   \n",
      "3885  2011              45271    Diesel       Manual           First   \n",
      "4022  2003              75000    Diesel    Automatic          Second   \n",
      "4099  2005              79000    Petrol       Manual          Second   \n",
      "4444  2012              72000    Diesel    Automatic           Third   \n",
      "4470  2011              98000    Petrol       Manual           First   \n",
      "4562  2017              17941    Petrol       Manual           First   \n",
      "4576  2003              80000    Petrol       Manual          Second   \n",
      "4809  2010              47000    Petrol       Manual           First   \n",
      "4870  2006              63000    Petrol       Manual           First   \n",
      "5037  2012              52000    Petrol       Manual           First   \n",
      "5121  2002              53000    Petrol       Manual          Second   \n",
      "\n",
      "         Mileage Engine  Power  Seats New_Price  Price  \n",
      "186     0.0 kmpl    NaN    NaN    NaN       NaN   2.95  \n",
      "200    16.1 kmpl    NaN    NaN    NaN       NaN   2.11  \n",
      "709    16.1 kmpl    NaN    NaN    NaN       NaN   1.75  \n",
      "723     0.0 kmpl    NaN    NaN    NaN       NaN  26.50  \n",
      "1253   12.8 kmpl    NaN    NaN    NaN       NaN   3.20  \n",
      "1284   16.1 kmpl    NaN    NaN    NaN       NaN   5.80  \n",
      "1339    0.0 kmpl    NaN    NaN    NaN       NaN   1.50  \n",
      "1412    0.0 kmpl    NaN    NaN    NaN       NaN  40.88  \n",
      "2014   16.1 kmpl    NaN    NaN    NaN       NaN   3.15  \n",
      "2036    0.0 kmpl    NaN    NaN    NaN       NaN   1.93  \n",
      "2199   18.3 kmpl    NaN    NaN    NaN       NaN   2.95  \n",
      "2256   16.1 kmpl    NaN    NaN    NaN       NaN   4.70  \n",
      "2266   16.1 kmpl    NaN    NaN    NaN       NaN   1.75  \n",
      "2447  18.48 kmpl    NaN    NaN    NaN       NaN  17.89  \n",
      "2459    0.0 kmpl    NaN    NaN    NaN       NaN   3.15  \n",
      "2538  18.48 kmpl    NaN    NaN    NaN       NaN  18.00  \n",
      "2580   16.1 kmpl    NaN    NaN    NaN       NaN   4.24  \n",
      "2648   12.0 kmpl    NaN    NaN    NaN       NaN   0.70  \n",
      "2691    0.0 kmpl    NaN    NaN    NaN       NaN   1.60  \n",
      "2753    0.0 kmpl    NaN    NaN    NaN       NaN   3.25  \n",
      "3170  18.48 kmpl    NaN    NaN    NaN       NaN  10.50  \n",
      "3300   16.1 kmpl    NaN    NaN    NaN       NaN   2.35  \n",
      "3412  18.48 kmpl    NaN    NaN    NaN       NaN  14.50  \n",
      "3414    0.0 kmpl    NaN    NaN    NaN       NaN   2.66  \n",
      "3690   14.0 kmpl    NaN    NaN    NaN       NaN  11.99  \n",
      "3885   20.3 kmpl    NaN    NaN    NaN       NaN   2.60  \n",
      "4022    0.0 kmpl    NaN    NaN    NaN       NaN  16.11  \n",
      "4099   17.0 kmpl    NaN    NaN    NaN       NaN   1.65  \n",
      "4444  18.48 kmpl    NaN    NaN    NaN       NaN  13.85  \n",
      "4470   16.7 kmpl    NaN    NaN    NaN       NaN   3.15  \n",
      "4562   15.7 kmpl    NaN    NaN    NaN       NaN   3.93  \n",
      "4576   17.0 kmpl    NaN    NaN    NaN       NaN   0.90  \n",
      "4809   14.6 kmpl    NaN    NaN    NaN       NaN   1.49  \n",
      "4870   16.1 kmpl    NaN    NaN    NaN       NaN   1.60  \n",
      "5037   16.1 kmpl    NaN    NaN    NaN       NaN   3.65  \n",
      "5121    0.0 kmpl    NaN    NaN    NaN       NaN   1.85  \n"
     ]
    }
   ],
   "source": [
    "print(data[data['Power'].isna()])"
   ]
  }
 ],
 "metadata": {
  "kernelspec": {
   "display_name": "daa310",
   "language": "python",
   "name": "python3"
  },
  "language_info": {
   "codemirror_mode": {
    "name": "ipython",
    "version": 3
   },
   "file_extension": ".py",
   "mimetype": "text/x-python",
   "name": "python",
   "nbconvert_exporter": "python",
   "pygments_lexer": "ipython3",
   "version": "3.10.13"
  }
 },
 "nbformat": 4,
 "nbformat_minor": 2
}
