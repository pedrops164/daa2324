{
 "cells": [
  {
   "attachments": {},
   "cell_type": "markdown",
   "metadata": {},
   "source": [
    "# Feature Engineering\n",
    "\n",
    "Parte: T-Bag\n",
    "\n",
    "Features:\n",
    "* Owner_Type\n",
    "* Engine\n",
    "* Seats"
   ]
  },
  {
   "cell_type": "code",
   "execution_count": 225,
   "metadata": {},
   "outputs": [],
   "source": [
    "import pandas as pd\n",
    "import matplotlib.pyplot as plt\n",
    "import seaborn as sns\n",
    "import numpy as np"
   ]
  },
  {
   "cell_type": "code",
   "execution_count": 226,
   "metadata": {},
   "outputs": [
    {
     "data": {
      "text/html": [
       "<div>\n",
       "<style scoped>\n",
       "    .dataframe tbody tr th:only-of-type {\n",
       "        vertical-align: middle;\n",
       "    }\n",
       "\n",
       "    .dataframe tbody tr th {\n",
       "        vertical-align: top;\n",
       "    }\n",
       "\n",
       "    .dataframe thead th {\n",
       "        text-align: right;\n",
       "    }\n",
       "</style>\n",
       "<table border=\"1\" class=\"dataframe\">\n",
       "  <thead>\n",
       "    <tr style=\"text-align: right;\">\n",
       "      <th></th>\n",
       "      <th>id</th>\n",
       "      <th>Name</th>\n",
       "      <th>Location</th>\n",
       "      <th>Year</th>\n",
       "      <th>Kilometers_Driven</th>\n",
       "      <th>Fuel_Type</th>\n",
       "      <th>Transmission</th>\n",
       "      <th>Owner_Type</th>\n",
       "      <th>Mileage</th>\n",
       "      <th>Engine</th>\n",
       "      <th>Power</th>\n",
       "      <th>Seats</th>\n",
       "      <th>New_Price</th>\n",
       "      <th>Price</th>\n",
       "    </tr>\n",
       "  </thead>\n",
       "  <tbody>\n",
       "    <tr>\n",
       "      <th>0</th>\n",
       "      <td>1</td>\n",
       "      <td>Hyundai Creta 1.6 CRDi SX Option</td>\n",
       "      <td>Pune</td>\n",
       "      <td>2015</td>\n",
       "      <td>41000</td>\n",
       "      <td>Diesel</td>\n",
       "      <td>Manual</td>\n",
       "      <td>First</td>\n",
       "      <td>19.67 kmpl</td>\n",
       "      <td>1582 CC</td>\n",
       "      <td>126.2 bhp</td>\n",
       "      <td>5.0</td>\n",
       "      <td>NaN</td>\n",
       "      <td>12.50</td>\n",
       "    </tr>\n",
       "    <tr>\n",
       "      <th>1</th>\n",
       "      <td>2</td>\n",
       "      <td>Honda Jazz V</td>\n",
       "      <td>Chennai</td>\n",
       "      <td>2011</td>\n",
       "      <td>46000</td>\n",
       "      <td>Petrol</td>\n",
       "      <td>Manual</td>\n",
       "      <td>First</td>\n",
       "      <td>13 km/kg</td>\n",
       "      <td>1199 CC</td>\n",
       "      <td>88.7 bhp</td>\n",
       "      <td>5.0</td>\n",
       "      <td>8.61 Lakh</td>\n",
       "      <td>4.50</td>\n",
       "    </tr>\n",
       "    <tr>\n",
       "      <th>2</th>\n",
       "      <td>3</td>\n",
       "      <td>Maruti Ertiga VDI</td>\n",
       "      <td>Chennai</td>\n",
       "      <td>2012</td>\n",
       "      <td>87000</td>\n",
       "      <td>Diesel</td>\n",
       "      <td>Manual</td>\n",
       "      <td>First</td>\n",
       "      <td>20.77 kmpl</td>\n",
       "      <td>1248 CC</td>\n",
       "      <td>88.76 bhp</td>\n",
       "      <td>7.0</td>\n",
       "      <td>NaN</td>\n",
       "      <td>6.00</td>\n",
       "    </tr>\n",
       "    <tr>\n",
       "      <th>3</th>\n",
       "      <td>4</td>\n",
       "      <td>Audi A4 New 2.0 TDI Multitronic</td>\n",
       "      <td>Coimbatore</td>\n",
       "      <td>2013</td>\n",
       "      <td>40670</td>\n",
       "      <td>Diesel</td>\n",
       "      <td>Automatic</td>\n",
       "      <td>Second</td>\n",
       "      <td>15.2 kmpl</td>\n",
       "      <td>1968 CC</td>\n",
       "      <td>140.8 bhp</td>\n",
       "      <td>5.0</td>\n",
       "      <td>NaN</td>\n",
       "      <td>17.74</td>\n",
       "    </tr>\n",
       "    <tr>\n",
       "      <th>4</th>\n",
       "      <td>6</td>\n",
       "      <td>Nissan Micra Diesel XV</td>\n",
       "      <td>Jaipur</td>\n",
       "      <td>2013</td>\n",
       "      <td>86999</td>\n",
       "      <td>Diesel</td>\n",
       "      <td>Manual</td>\n",
       "      <td>First</td>\n",
       "      <td>23.08 kmpl</td>\n",
       "      <td>1461 CC</td>\n",
       "      <td>63.1 bhp</td>\n",
       "      <td>5.0</td>\n",
       "      <td>NaN</td>\n",
       "      <td>3.50</td>\n",
       "    </tr>\n",
       "  </tbody>\n",
       "</table>\n",
       "</div>"
      ],
      "text/plain": [
       "   id                              Name    Location  Year  Kilometers_Driven  \\\n",
       "0   1  Hyundai Creta 1.6 CRDi SX Option        Pune  2015              41000   \n",
       "1   2                      Honda Jazz V     Chennai  2011              46000   \n",
       "2   3                 Maruti Ertiga VDI     Chennai  2012              87000   \n",
       "3   4   Audi A4 New 2.0 TDI Multitronic  Coimbatore  2013              40670   \n",
       "4   6            Nissan Micra Diesel XV      Jaipur  2013              86999   \n",
       "\n",
       "  Fuel_Type Transmission Owner_Type     Mileage   Engine      Power  Seats  \\\n",
       "0    Diesel       Manual      First  19.67 kmpl  1582 CC  126.2 bhp    5.0   \n",
       "1    Petrol       Manual      First    13 km/kg  1199 CC   88.7 bhp    5.0   \n",
       "2    Diesel       Manual      First  20.77 kmpl  1248 CC  88.76 bhp    7.0   \n",
       "3    Diesel    Automatic     Second   15.2 kmpl  1968 CC  140.8 bhp    5.0   \n",
       "4    Diesel       Manual      First  23.08 kmpl  1461 CC   63.1 bhp    5.0   \n",
       "\n",
       "   New_Price  Price  \n",
       "0        NaN  12.50  \n",
       "1  8.61 Lakh   4.50  \n",
       "2        NaN   6.00  \n",
       "3        NaN  17.74  \n",
       "4        NaN   3.50  "
      ]
     },
     "execution_count": 226,
     "metadata": {},
     "output_type": "execute_result"
    }
   ],
   "source": [
    "# import data\n",
    "data = pd.read_csv('../input/train.csv')\n",
    "# visualize first 5 rows\n",
    "data.head()"
   ]
  },
  {
   "cell_type": "code",
   "execution_count": 227,
   "metadata": {},
   "outputs": [
    {
     "name": "stdout",
     "output_type": "stream",
     "text": [
      "id                      0\n",
      "Name                    0\n",
      "Location                0\n",
      "Year                    0\n",
      "Kilometers_Driven       0\n",
      "Fuel_Type               0\n",
      "Transmission            0\n",
      "Owner_Type              0\n",
      "Mileage                 2\n",
      "Engine                 36\n",
      "Power                  36\n",
      "Seats                  38\n",
      "New_Price            5032\n",
      "Price                   0\n",
      "dtype: int64\n"
     ]
    }
   ],
   "source": [
    "print(data.isnull().sum())"
   ]
  },
  {
   "attachments": {},
   "cell_type": "markdown",
   "metadata": {},
   "source": [
    "## Owner_Type"
   ]
  },
  {
   "cell_type": "code",
   "execution_count": 228,
   "metadata": {},
   "outputs": [
    {
     "name": "stdout",
     "output_type": "stream",
     "text": [
      "4\n",
      "['First' 'Second' 'Fourth & Above' 'Third']\n"
     ]
    }
   ],
   "source": [
    "print(data['Owner_Type'].nunique())\n",
    "print(data['Owner_Type'].unique())"
   ]
  },
  {
   "attachments": {},
   "cell_type": "markdown",
   "metadata": {},
   "source": [
    "Como só tem 4 valores distintos vou discretizar, mas primeiro analisar a distribuição"
   ]
  },
  {
   "cell_type": "code",
   "execution_count": 229,
   "metadata": {},
   "outputs": [
    {
     "data": {
      "image/png": "[encoded data removed]",
      "text/plain": [
       "<Figure size 640x480 with 1 Axes>"
      ]
     },
     "metadata": {},
     "output_type": "display_data"
    },
    {
     "name": "stdout",
     "output_type": "stream",
     "text": [
      "Owner_Type\n",
      "First             4811\n",
      "Second             925\n",
      "Third              103\n",
      "Fourth & Above       8\n",
      "Name: count, dtype: int64\n"
     ]
    }
   ],
   "source": [
    "incidents_count = data['Owner_Type'].value_counts()\n",
    "sns.set(style=\"darkgrid\")\n",
    "sns.barplot(x=incidents_count.index, y=incidents_count.values)\n",
    "plt.title('Frequency Distribution of Owner_Type')\n",
    "plt.ylabel('Number of Occurences', fontsize=12)\n",
    "plt.xlabel('Owner_Type', fontsize=12)\n",
    "plt.show()\n",
    "print(incidents_count)"
   ]
  },
  {
   "cell_type": "code",
   "execution_count": 230,
   "metadata": {},
   "outputs": [
    {
     "data": {
      "image/png": "[encoded data removed]",
      "text/plain": [
       "<Figure size 640x480 with 1 Axes>"
      ]
     },
     "metadata": {},
     "output_type": "display_data"
    }
   ],
   "source": [
    "labels = data['Owner_Type'].astype('category').cat.categories.tolist()\n",
    "counts = data['Owner_Type'].value_counts()\n",
    "sizes = [counts[var_cat] for var_cat in labels]\n",
    "fig1, ax1 = plt.subplots()\n",
    "ax1.pie(sizes, labels=labels, autopct='%1.2f%%', shadow=True)\n",
    "ax1.axis('equal')\n",
    "plt.show()"
   ]
  },
  {
   "attachments": {},
   "cell_type": "markdown",
   "metadata": {},
   "source": [
    "### Coisas a Retirar:\n",
    "\n",
    "Como temos poucas ocorrencias de alguns valores, se tiver uma boa correlação podemos utilizar pra prever"
   ]
  },
  {
   "attachments": {},
   "cell_type": "markdown",
   "metadata": {},
   "source": [
    "### Discretizar"
   ]
  },
  {
   "attachments": {},
   "cell_type": "markdown",
   "metadata": {},
   "source": [
    "Como Third e Fourth & Above tem poucas entradas juntamos os dois"
   ]
  },
  {
   "cell_type": "code",
   "execution_count": 231,
   "metadata": {},
   "outputs": [
    {
     "name": "stdout",
     "output_type": "stream",
     "text": [
      "{'Owner_Type': {'First': 1, 'Second': 2, 'Third': 3, 'Fourth & Above': 3}}\n"
     ]
    }
   ],
   "source": [
    "replace_map = {'Owner_Type': { 'First': 1, 'Second': 2, 'Third': 3, 'Fourth & Above':3 }}\n",
    "print(replace_map)"
   ]
  },
  {
   "cell_type": "code",
   "execution_count": 232,
   "metadata": {},
   "outputs": [
    {
     "data": {
      "text/html": [
       "<div>\n",
       "<style scoped>\n",
       "    .dataframe tbody tr th:only-of-type {\n",
       "        vertical-align: middle;\n",
       "    }\n",
       "\n",
       "    .dataframe tbody tr th {\n",
       "        vertical-align: top;\n",
       "    }\n",
       "\n",
       "    .dataframe thead th {\n",
       "        text-align: right;\n",
       "    }\n",
       "</style>\n",
       "<table border=\"1\" class=\"dataframe\">\n",
       "  <thead>\n",
       "    <tr style=\"text-align: right;\">\n",
       "      <th></th>\n",
       "      <th>id</th>\n",
       "      <th>Name</th>\n",
       "      <th>Location</th>\n",
       "      <th>Year</th>\n",
       "      <th>Kilometers_Driven</th>\n",
       "      <th>Fuel_Type</th>\n",
       "      <th>Transmission</th>\n",
       "      <th>Owner_Type</th>\n",
       "      <th>Mileage</th>\n",
       "      <th>Engine</th>\n",
       "      <th>Power</th>\n",
       "      <th>Seats</th>\n",
       "      <th>New_Price</th>\n",
       "      <th>Price</th>\n",
       "    </tr>\n",
       "  </thead>\n",
       "  <tbody>\n",
       "    <tr>\n",
       "      <th>0</th>\n",
       "      <td>1</td>\n",
       "      <td>Hyundai Creta 1.6 CRDi SX Option</td>\n",
       "      <td>Pune</td>\n",
       "      <td>2015</td>\n",
       "      <td>41000</td>\n",
       "      <td>Diesel</td>\n",
       "      <td>Manual</td>\n",
       "      <td>1</td>\n",
       "      <td>19.67 kmpl</td>\n",
       "      <td>1582 CC</td>\n",
       "      <td>126.2 bhp</td>\n",
       "      <td>5.0</td>\n",
       "      <td>NaN</td>\n",
       "      <td>12.50</td>\n",
       "    </tr>\n",
       "    <tr>\n",
       "      <th>1</th>\n",
       "      <td>2</td>\n",
       "      <td>Honda Jazz V</td>\n",
       "      <td>Chennai</td>\n",
       "      <td>2011</td>\n",
       "      <td>46000</td>\n",
       "      <td>Petrol</td>\n",
       "      <td>Manual</td>\n",
       "      <td>1</td>\n",
       "      <td>13 km/kg</td>\n",
       "      <td>1199 CC</td>\n",
       "      <td>88.7 bhp</td>\n",
       "      <td>5.0</td>\n",
       "      <td>8.61 Lakh</td>\n",
       "      <td>4.50</td>\n",
       "    </tr>\n",
       "    <tr>\n",
       "      <th>2</th>\n",
       "      <td>3</td>\n",
       "      <td>Maruti Ertiga VDI</td>\n",
       "      <td>Chennai</td>\n",
       "      <td>2012</td>\n",
       "      <td>87000</td>\n",
       "      <td>Diesel</td>\n",
       "      <td>Manual</td>\n",
       "      <td>1</td>\n",
       "      <td>20.77 kmpl</td>\n",
       "      <td>1248 CC</td>\n",
       "      <td>88.76 bhp</td>\n",
       "      <td>7.0</td>\n",
       "      <td>NaN</td>\n",
       "      <td>6.00</td>\n",
       "    </tr>\n",
       "    <tr>\n",
       "      <th>3</th>\n",
       "      <td>4</td>\n",
       "      <td>Audi A4 New 2.0 TDI Multitronic</td>\n",
       "      <td>Coimbatore</td>\n",
       "      <td>2013</td>\n",
       "      <td>40670</td>\n",
       "      <td>Diesel</td>\n",
       "      <td>Automatic</td>\n",
       "      <td>2</td>\n",
       "      <td>15.2 kmpl</td>\n",
       "      <td>1968 CC</td>\n",
       "      <td>140.8 bhp</td>\n",
       "      <td>5.0</td>\n",
       "      <td>NaN</td>\n",
       "      <td>17.74</td>\n",
       "    </tr>\n",
       "    <tr>\n",
       "      <th>4</th>\n",
       "      <td>6</td>\n",
       "      <td>Nissan Micra Diesel XV</td>\n",
       "      <td>Jaipur</td>\n",
       "      <td>2013</td>\n",
       "      <td>86999</td>\n",
       "      <td>Diesel</td>\n",
       "      <td>Manual</td>\n",
       "      <td>1</td>\n",
       "      <td>23.08 kmpl</td>\n",
       "      <td>1461 CC</td>\n",
       "      <td>63.1 bhp</td>\n",
       "      <td>5.0</td>\n",
       "      <td>NaN</td>\n",
       "      <td>3.50</td>\n",
       "    </tr>\n",
       "    <tr>\n",
       "      <th>...</th>\n",
       "      <td>...</td>\n",
       "      <td>...</td>\n",
       "      <td>...</td>\n",
       "      <td>...</td>\n",
       "      <td>...</td>\n",
       "      <td>...</td>\n",
       "      <td>...</td>\n",
       "      <td>...</td>\n",
       "      <td>...</td>\n",
       "      <td>...</td>\n",
       "      <td>...</td>\n",
       "      <td>...</td>\n",
       "      <td>...</td>\n",
       "      <td>...</td>\n",
       "    </tr>\n",
       "    <tr>\n",
       "      <th>5842</th>\n",
       "      <td>6014</td>\n",
       "      <td>Maruti Swift VDI</td>\n",
       "      <td>Delhi</td>\n",
       "      <td>2014</td>\n",
       "      <td>27365</td>\n",
       "      <td>Diesel</td>\n",
       "      <td>Manual</td>\n",
       "      <td>1</td>\n",
       "      <td>28.4 kmpl</td>\n",
       "      <td>1248 CC</td>\n",
       "      <td>74 bhp</td>\n",
       "      <td>5.0</td>\n",
       "      <td>7.88 Lakh</td>\n",
       "      <td>4.75</td>\n",
       "    </tr>\n",
       "    <tr>\n",
       "      <th>5843</th>\n",
       "      <td>6015</td>\n",
       "      <td>Hyundai Xcent 1.1 CRDi S</td>\n",
       "      <td>Jaipur</td>\n",
       "      <td>2015</td>\n",
       "      <td>100000</td>\n",
       "      <td>Diesel</td>\n",
       "      <td>Manual</td>\n",
       "      <td>1</td>\n",
       "      <td>24.4 kmpl</td>\n",
       "      <td>1120 CC</td>\n",
       "      <td>71 bhp</td>\n",
       "      <td>5.0</td>\n",
       "      <td>NaN</td>\n",
       "      <td>4.00</td>\n",
       "    </tr>\n",
       "    <tr>\n",
       "      <th>5844</th>\n",
       "      <td>6016</td>\n",
       "      <td>Mahindra Xylo D4 BSIV</td>\n",
       "      <td>Jaipur</td>\n",
       "      <td>2012</td>\n",
       "      <td>55000</td>\n",
       "      <td>Diesel</td>\n",
       "      <td>Manual</td>\n",
       "      <td>2</td>\n",
       "      <td>14.0 kmpl</td>\n",
       "      <td>2498 CC</td>\n",
       "      <td>112 bhp</td>\n",
       "      <td>8.0</td>\n",
       "      <td>NaN</td>\n",
       "      <td>2.90</td>\n",
       "    </tr>\n",
       "    <tr>\n",
       "      <th>5845</th>\n",
       "      <td>6017</td>\n",
       "      <td>Maruti Wagon R VXI</td>\n",
       "      <td>Kolkata</td>\n",
       "      <td>2013</td>\n",
       "      <td>46000</td>\n",
       "      <td>Petrol</td>\n",
       "      <td>Manual</td>\n",
       "      <td>1</td>\n",
       "      <td>18.9 kmpl</td>\n",
       "      <td>998 CC</td>\n",
       "      <td>67.1 bhp</td>\n",
       "      <td>5.0</td>\n",
       "      <td>NaN</td>\n",
       "      <td>2.65</td>\n",
       "    </tr>\n",
       "    <tr>\n",
       "      <th>5846</th>\n",
       "      <td>6018</td>\n",
       "      <td>Chevrolet Beat Diesel</td>\n",
       "      <td>Hyderabad</td>\n",
       "      <td>2011</td>\n",
       "      <td>47000</td>\n",
       "      <td>Diesel</td>\n",
       "      <td>Manual</td>\n",
       "      <td>1</td>\n",
       "      <td>25.44 kmpl</td>\n",
       "      <td>936 CC</td>\n",
       "      <td>57.6 bhp</td>\n",
       "      <td>5.0</td>\n",
       "      <td>NaN</td>\n",
       "      <td>2.50</td>\n",
       "    </tr>\n",
       "  </tbody>\n",
       "</table>\n",
       "<p>5847 rows × 14 columns</p>\n",
       "</div>"
      ],
      "text/plain": [
       "        id                              Name    Location  Year  \\\n",
       "0        1  Hyundai Creta 1.6 CRDi SX Option        Pune  2015   \n",
       "1        2                      Honda Jazz V     Chennai  2011   \n",
       "2        3                 Maruti Ertiga VDI     Chennai  2012   \n",
       "3        4   Audi A4 New 2.0 TDI Multitronic  Coimbatore  2013   \n",
       "4        6            Nissan Micra Diesel XV      Jaipur  2013   \n",
       "...    ...                               ...         ...   ...   \n",
       "5842  6014                  Maruti Swift VDI       Delhi  2014   \n",
       "5843  6015          Hyundai Xcent 1.1 CRDi S      Jaipur  2015   \n",
       "5844  6016             Mahindra Xylo D4 BSIV      Jaipur  2012   \n",
       "5845  6017                Maruti Wagon R VXI     Kolkata  2013   \n",
       "5846  6018             Chevrolet Beat Diesel   Hyderabad  2011   \n",
       "\n",
       "      Kilometers_Driven Fuel_Type Transmission  Owner_Type     Mileage  \\\n",
       "0                 41000    Diesel       Manual           1  19.67 kmpl   \n",
       "1                 46000    Petrol       Manual           1    13 km/kg   \n",
       "2                 87000    Diesel       Manual           1  20.77 kmpl   \n",
       "3                 40670    Diesel    Automatic           2   15.2 kmpl   \n",
       "4                 86999    Diesel       Manual           1  23.08 kmpl   \n",
       "...                 ...       ...          ...         ...         ...   \n",
       "5842              27365    Diesel       Manual           1   28.4 kmpl   \n",
       "5843             100000    Diesel       Manual           1   24.4 kmpl   \n",
       "5844              55000    Diesel       Manual           2   14.0 kmpl   \n",
       "5845              46000    Petrol       Manual           1   18.9 kmpl   \n",
       "5846              47000    Diesel       Manual           1  25.44 kmpl   \n",
       "\n",
       "       Engine      Power  Seats  New_Price  Price  \n",
       "0     1582 CC  126.2 bhp    5.0        NaN  12.50  \n",
       "1     1199 CC   88.7 bhp    5.0  8.61 Lakh   4.50  \n",
       "2     1248 CC  88.76 bhp    7.0        NaN   6.00  \n",
       "3     1968 CC  140.8 bhp    5.0        NaN  17.74  \n",
       "4     1461 CC   63.1 bhp    5.0        NaN   3.50  \n",
       "...       ...        ...    ...        ...    ...  \n",
       "5842  1248 CC     74 bhp    5.0  7.88 Lakh   4.75  \n",
       "5843  1120 CC     71 bhp    5.0        NaN   4.00  \n",
       "5844  2498 CC    112 bhp    8.0        NaN   2.90  \n",
       "5845   998 CC   67.1 bhp    5.0        NaN   2.65  \n",
       "5846   936 CC   57.6 bhp    5.0        NaN   2.50  \n",
       "\n",
       "[5847 rows x 14 columns]"
      ]
     },
     "execution_count": 232,
     "metadata": {},
     "output_type": "execute_result"
    }
   ],
   "source": [
    "data.replace(replace_map, inplace=True)\n",
    "data"
   ]
  },
  {
   "cell_type": "code",
   "execution_count": 233,
   "metadata": {},
   "outputs": [
    {
     "data": {
      "image/png": "[encoded data removed]",
      "text/plain": [
       "<Figure size 640x480 with 1 Axes>"
      ]
     },
     "metadata": {},
     "output_type": "display_data"
    }
   ],
   "source": [
    "labels = data['Owner_Type'].astype('category').cat.categories.tolist()\n",
    "counts = data['Owner_Type'].value_counts()\n",
    "sizes = [counts[var_cat] for var_cat in labels]\n",
    "fig1, ax1 = plt.subplots()\n",
    "ax1.pie(sizes, labels=labels, autopct='%1.2f%%', shadow=True)\n",
    "ax1.axis('equal')\n",
    "plt.show()"
   ]
  },
  {
   "attachments": {},
   "cell_type": "markdown",
   "metadata": {},
   "source": [
    "## Engine"
   ]
  },
  {
   "attachments": {},
   "cell_type": "markdown",
   "metadata": {},
   "source": [
    "Analisar os valores e se tem valores em falta"
   ]
  },
  {
   "cell_type": "code",
   "execution_count": 234,
   "metadata": {},
   "outputs": [
    {
     "name": "stdout",
     "output_type": "stream",
     "text": [
      "Número de valores em falta: 36\n",
      "Número de valores distintos: 140\n",
      "Tipo da coluna object\n",
      "0    1582 CC\n",
      "1    1199 CC\n",
      "2    1248 CC\n",
      "3    1968 CC\n",
      "4    1461 CC\n",
      "Name: Engine, dtype: object\n"
     ]
    }
   ],
   "source": [
    "print(f\"Número de valores em falta: {data['Engine'].isnull().sum()}\")\n",
    "print(f\"Número de valores distintos: {data['Engine'].nunique()}\")\n",
    "print(f\"Tipo da coluna {data['Engine'].dtypes}\")\n",
    "print(data['Engine'].head())"
   ]
  },
  {
   "attachments": {},
   "cell_type": "markdown",
   "metadata": {},
   "source": [
    "Verificar se todos os valores acabam em CC"
   ]
  },
  {
   "cell_type": "code",
   "execution_count": 235,
   "metadata": {},
   "outputs": [
    {
     "name": "stdout",
     "output_type": "stream",
     "text": [
      "Acabam todos em CC (menos os na)\n"
     ]
    }
   ],
   "source": [
    "condition = True\n",
    "for val in data['Engine'].dropna():\n",
    "    _, cc = val.split(\" \")\n",
    "    if cc != \"CC\":\n",
    "        condition = False\n",
    "if condition:\n",
    "    print(\"Acabam todos em CC (menos os na)\")\n",
    "else:\n",
    "    print(\"Não acabam todos em CC (menos os na)\")"
   ]
  },
  {
   "attachments": {},
   "cell_type": "markdown",
   "metadata": {},
   "source": [
    "Ou seja, podemos substituir apenas pelo número se necessário"
   ]
  },
  {
   "attachments": {},
   "cell_type": "markdown",
   "metadata": {},
   "source": [
    "### Tratamento de valores em falta\n",
    "\n",
    "Como já verificamos tem 36 valores em falta que devem ser tratados.\n",
    "\n",
    "\n",
    "Para fazer o tratamento vou verificar a correlação desta variável como numérica com as outras"
   ]
  },
  {
   "cell_type": "code",
   "execution_count": 236,
   "metadata": {},
   "outputs": [
    {
     "name": "stdout",
     "output_type": "stream",
     "text": [
      "36\n"
     ]
    }
   ],
   "source": [
    "# Função pra transformar valor em int\n",
    "def removeCC(val):\n",
    "    num, _ = val.split(\" \")\n",
    "    return int(num)\n",
    "\n",
    "data = data.copy()\n",
    "data['Engine'] = data['Engine'].map(removeCC, na_action=\"ignore\")\n",
    "print(data['Engine'].isnull().sum())"
   ]
  },
  {
   "cell_type": "code",
   "execution_count": 237,
   "metadata": {},
   "outputs": [
    {
     "name": "stdout",
     "output_type": "stream",
     "text": [
      "id                  -0.006583\n",
      "Year                -0.068473\n",
      "Kilometers_Driven    0.093179\n",
      "Owner_Type           0.058574\n",
      "Engine               1.000000\n",
      "Seats                0.400023\n",
      "Price                0.656374\n",
      "Name: Engine, dtype: float64\n"
     ]
    }
   ],
   "source": [
    "engine_corr = data.corr(method='pearson', numeric_only=True)\n",
    "print(engine_corr['Engine'])"
   ]
  },
  {
   "attachments": {},
   "cell_type": "markdown",
   "metadata": {},
   "source": [
    "Podemos verificar que 'Engine' tem uma correlação de coeficiente 0.65 com 'Price', pelo que podemos tentar substituir os valores de Engine em falta tendo isso em conta"
   ]
  },
  {
   "cell_type": "code",
   "execution_count": 238,
   "metadata": {},
   "outputs": [
    {
     "name": "stdout",
     "output_type": "stream",
     "text": [
      "31\n",
      "        id                              Name    Location  Year  \\\n",
      "0        1  Hyundai Creta 1.6 CRDi SX Option        Pune  2015   \n",
      "1        2                      Honda Jazz V     Chennai  2011   \n",
      "2        3                 Maruti Ertiga VDI     Chennai  2012   \n",
      "3        4   Audi A4 New 2.0 TDI Multitronic  Coimbatore  2013   \n",
      "4        6            Nissan Micra Diesel XV      Jaipur  2013   \n",
      "...    ...                               ...         ...   ...   \n",
      "5842  6014                  Maruti Swift VDI       Delhi  2014   \n",
      "5843  6015          Hyundai Xcent 1.1 CRDi S      Jaipur  2015   \n",
      "5844  6016             Mahindra Xylo D4 BSIV      Jaipur  2012   \n",
      "5845  6017                Maruti Wagon R VXI     Kolkata  2013   \n",
      "5846  6018             Chevrolet Beat Diesel   Hyderabad  2011   \n",
      "\n",
      "      Kilometers_Driven Fuel_Type Transmission  Owner_Type     Mileage  \\\n",
      "0                 41000    Diesel       Manual           1  19.67 kmpl   \n",
      "1                 46000    Petrol       Manual           1    13 km/kg   \n",
      "2                 87000    Diesel       Manual           1  20.77 kmpl   \n",
      "3                 40670    Diesel    Automatic           2   15.2 kmpl   \n",
      "4                 86999    Diesel       Manual           1  23.08 kmpl   \n",
      "...                 ...       ...          ...         ...         ...   \n",
      "5842              27365    Diesel       Manual           1   28.4 kmpl   \n",
      "5843             100000    Diesel       Manual           1   24.4 kmpl   \n",
      "5844              55000    Diesel       Manual           2   14.0 kmpl   \n",
      "5845              46000    Petrol       Manual           1   18.9 kmpl   \n",
      "5846              47000    Diesel       Manual           1  25.44 kmpl   \n",
      "\n",
      "      Engine      Power  Seats  New_Price  Price  \n",
      "0     1582.0  126.2 bhp    5.0        NaN  12.50  \n",
      "1     1199.0   88.7 bhp    5.0  8.61 Lakh   4.50  \n",
      "2     1248.0  88.76 bhp    7.0        NaN   6.00  \n",
      "3     1968.0  140.8 bhp    5.0        NaN  17.74  \n",
      "4     1461.0   63.1 bhp    5.0        NaN   3.50  \n",
      "...      ...        ...    ...        ...    ...  \n",
      "5842  1248.0     74 bhp    5.0  7.88 Lakh   4.75  \n",
      "5843  1120.0     71 bhp    5.0        NaN   4.00  \n",
      "5844  2498.0    112 bhp    8.0        NaN   2.90  \n",
      "5845   998.0   67.1 bhp    5.0        NaN   2.65  \n",
      "5846   936.0   57.6 bhp    5.0        NaN   2.50  \n",
      "\n",
      "[5847 rows x 14 columns]\n"
     ]
    }
   ],
   "source": [
    "group = data.groupby('Name')['Engine'].mean().to_dict()\n",
    "data['Engine'].fillna(data['Name'].map(group), inplace=True)\n",
    "print(data['Engine'].isnull().sum())\n",
    "print(data)\n"
   ]
  },
  {
   "attachments": {},
   "cell_type": "markdown",
   "metadata": {},
   "source": [
    "Vou fazer binning pelo preço e ver a média de Engine"
   ]
  },
  {
   "cell_type": "code",
   "execution_count": 239,
   "metadata": {},
   "outputs": [
    {
     "name": "stdout",
     "output_type": "stream",
     "text": [
      "Engine agora tem 0 valores em falta\n"
     ]
    },
    {
     "data": {
      "text/html": [
       "<div>\n",
       "<style scoped>\n",
       "    .dataframe tbody tr th:only-of-type {\n",
       "        vertical-align: middle;\n",
       "    }\n",
       "\n",
       "    .dataframe tbody tr th {\n",
       "        vertical-align: top;\n",
       "    }\n",
       "\n",
       "    .dataframe thead th {\n",
       "        text-align: right;\n",
       "    }\n",
       "</style>\n",
       "<table border=\"1\" class=\"dataframe\">\n",
       "  <thead>\n",
       "    <tr style=\"text-align: right;\">\n",
       "      <th></th>\n",
       "      <th>id</th>\n",
       "      <th>Name</th>\n",
       "      <th>Location</th>\n",
       "      <th>Year</th>\n",
       "      <th>Kilometers_Driven</th>\n",
       "      <th>Fuel_Type</th>\n",
       "      <th>Transmission</th>\n",
       "      <th>Owner_Type</th>\n",
       "      <th>Mileage</th>\n",
       "      <th>Engine</th>\n",
       "      <th>Power</th>\n",
       "      <th>Seats</th>\n",
       "      <th>New_Price</th>\n",
       "      <th>Price</th>\n",
       "    </tr>\n",
       "  </thead>\n",
       "  <tbody>\n",
       "    <tr>\n",
       "      <th>0</th>\n",
       "      <td>1</td>\n",
       "      <td>Hyundai Creta 1.6 CRDi SX Option</td>\n",
       "      <td>Pune</td>\n",
       "      <td>2015</td>\n",
       "      <td>41000</td>\n",
       "      <td>Diesel</td>\n",
       "      <td>Manual</td>\n",
       "      <td>1</td>\n",
       "      <td>19.67 kmpl</td>\n",
       "      <td>1582</td>\n",
       "      <td>126.2 bhp</td>\n",
       "      <td>5.0</td>\n",
       "      <td>NaN</td>\n",
       "      <td>12.50</td>\n",
       "    </tr>\n",
       "    <tr>\n",
       "      <th>1</th>\n",
       "      <td>2</td>\n",
       "      <td>Honda Jazz V</td>\n",
       "      <td>Chennai</td>\n",
       "      <td>2011</td>\n",
       "      <td>46000</td>\n",
       "      <td>Petrol</td>\n",
       "      <td>Manual</td>\n",
       "      <td>1</td>\n",
       "      <td>13 km/kg</td>\n",
       "      <td>1199</td>\n",
       "      <td>88.7 bhp</td>\n",
       "      <td>5.0</td>\n",
       "      <td>8.61 Lakh</td>\n",
       "      <td>4.50</td>\n",
       "    </tr>\n",
       "    <tr>\n",
       "      <th>2</th>\n",
       "      <td>3</td>\n",
       "      <td>Maruti Ertiga VDI</td>\n",
       "      <td>Chennai</td>\n",
       "      <td>2012</td>\n",
       "      <td>87000</td>\n",
       "      <td>Diesel</td>\n",
       "      <td>Manual</td>\n",
       "      <td>1</td>\n",
       "      <td>20.77 kmpl</td>\n",
       "      <td>1248</td>\n",
       "      <td>88.76 bhp</td>\n",
       "      <td>7.0</td>\n",
       "      <td>NaN</td>\n",
       "      <td>6.00</td>\n",
       "    </tr>\n",
       "    <tr>\n",
       "      <th>3</th>\n",
       "      <td>4</td>\n",
       "      <td>Audi A4 New 2.0 TDI Multitronic</td>\n",
       "      <td>Coimbatore</td>\n",
       "      <td>2013</td>\n",
       "      <td>40670</td>\n",
       "      <td>Diesel</td>\n",
       "      <td>Automatic</td>\n",
       "      <td>2</td>\n",
       "      <td>15.2 kmpl</td>\n",
       "      <td>1968</td>\n",
       "      <td>140.8 bhp</td>\n",
       "      <td>5.0</td>\n",
       "      <td>NaN</td>\n",
       "      <td>17.74</td>\n",
       "    </tr>\n",
       "    <tr>\n",
       "      <th>4</th>\n",
       "      <td>6</td>\n",
       "      <td>Nissan Micra Diesel XV</td>\n",
       "      <td>Jaipur</td>\n",
       "      <td>2013</td>\n",
       "      <td>86999</td>\n",
       "      <td>Diesel</td>\n",
       "      <td>Manual</td>\n",
       "      <td>1</td>\n",
       "      <td>23.08 kmpl</td>\n",
       "      <td>1461</td>\n",
       "      <td>63.1 bhp</td>\n",
       "      <td>5.0</td>\n",
       "      <td>NaN</td>\n",
       "      <td>3.50</td>\n",
       "    </tr>\n",
       "  </tbody>\n",
       "</table>\n",
       "</div>"
      ],
      "text/plain": [
       "   id                              Name    Location  Year  Kilometers_Driven  \\\n",
       "0   1  Hyundai Creta 1.6 CRDi SX Option        Pune  2015              41000   \n",
       "1   2                      Honda Jazz V     Chennai  2011              46000   \n",
       "2   3                 Maruti Ertiga VDI     Chennai  2012              87000   \n",
       "3   4   Audi A4 New 2.0 TDI Multitronic  Coimbatore  2013              40670   \n",
       "4   6            Nissan Micra Diesel XV      Jaipur  2013              86999   \n",
       "\n",
       "  Fuel_Type Transmission  Owner_Type     Mileage  Engine      Power  Seats  \\\n",
       "0    Diesel       Manual           1  19.67 kmpl    1582  126.2 bhp    5.0   \n",
       "1    Petrol       Manual           1    13 km/kg    1199   88.7 bhp    5.0   \n",
       "2    Diesel       Manual           1  20.77 kmpl    1248  88.76 bhp    7.0   \n",
       "3    Diesel    Automatic           2   15.2 kmpl    1968  140.8 bhp    5.0   \n",
       "4    Diesel       Manual           1  23.08 kmpl    1461   63.1 bhp    5.0   \n",
       "\n",
       "   New_Price  Price  \n",
       "0        NaN  12.50  \n",
       "1  8.61 Lakh   4.50  \n",
       "2        NaN   6.00  \n",
       "3        NaN  17.74  \n",
       "4        NaN   3.50  "
      ]
     },
     "execution_count": 239,
     "metadata": {},
     "output_type": "execute_result"
    }
   ],
   "source": [
    "price_bin = pd.cut(data['Price'], bins=int(data['Price'].max()))\n",
    "\n",
    "groupByPriceBin = data.groupby(price_bin)['Engine'].mean().to_dict()\n",
    "data['Engine'].fillna(data['Price'].map(groupByPriceBin), inplace=True)\n",
    "data['Engine'] = data['Engine'].astype(int)\n",
    "print(f\"Engine agora tem {data['Engine'].isnull().sum()} valores em falta\")\n",
    "data.head()"
   ]
  },
  {
   "cell_type": "code",
   "execution_count": 240,
   "metadata": {},
   "outputs": [
    {
     "name": "stdout",
     "output_type": "stream",
     "text": [
      "id                  -0.006803\n",
      "Year                -0.065430\n",
      "Kilometers_Driven    0.092874\n",
      "Owner_Type           0.058055\n",
      "Engine               1.000000\n",
      "Seats                0.400023\n",
      "Price                0.657280\n",
      "Name: Engine, dtype: float64\n"
     ]
    }
   ],
   "source": [
    "engine_corr = data.corr(method='pearson', numeric_only=True)\n",
    "print(engine_corr['Engine'])"
   ]
  },
  {
   "attachments": {},
   "cell_type": "markdown",
   "metadata": {},
   "source": [
    "## Seats"
   ]
  },
  {
   "cell_type": "code",
   "execution_count": 241,
   "metadata": {},
   "outputs": [
    {
     "name": "stdout",
     "output_type": "stream",
     "text": [
      "Número de valores em falta: 38\n",
      "Número de valores distintos: 8\n",
      "Tipo da coluna float64\n",
      "0    5.0\n",
      "1    5.0\n",
      "2    7.0\n",
      "3    5.0\n",
      "4    5.0\n",
      "Name: Seats, dtype: float64\n"
     ]
    }
   ],
   "source": [
    "print(f\"Número de valores em falta: {data['Seats'].isnull().sum()}\")\n",
    "print(f\"Número de valores distintos: {data['Seats'].nunique()}\")\n",
    "print(f\"Tipo da coluna {data['Seats'].dtypes}\")\n",
    "print(data['Seats'].head())"
   ]
  },
  {
   "attachments": {},
   "cell_type": "markdown",
   "metadata": {},
   "source": [
    "À semelhança do que se fez com 'Engine', vou verificar se há algum carro com valor de 'Seats' em falta que tenha outra entrada no dataset com o valor preenchido"
   ]
  },
  {
   "cell_type": "code",
   "execution_count": 243,
   "metadata": {},
   "outputs": [
    {
     "name": "stdout",
     "output_type": "stream",
     "text": [
      "Número de valores em falta: 32\n"
     ]
    }
   ],
   "source": [
    "groupSitsByName = data.groupby('Name')['Seats'].mean().to_dict()\n",
    "data['Seats'].fillna(data['Name'].map(groupSitsByName), inplace=True)\n",
    "print(f\"Número de valores em falta: {data['Seats'].isnull().sum()}\")"
   ]
  },
  {
   "attachments": {},
   "cell_type": "markdown",
   "metadata": {},
   "source": [
    "Vou agora verificar a correlação com outras variáveis"
   ]
  },
  {
   "cell_type": "code",
   "execution_count": 244,
   "metadata": {},
   "outputs": [
    {
     "name": "stdout",
     "output_type": "stream",
     "text": [
      "id                  -0.013901\n",
      "Year                 0.008568\n",
      "Kilometers_Driven    0.083243\n",
      "Owner_Type           0.010065\n",
      "Engine               0.400098\n",
      "Seats                1.000000\n",
      "Price                0.053437\n",
      "Name: Seats, dtype: float64\n"
     ]
    }
   ],
   "source": [
    "corr = data.corr(method='pearson', numeric_only=True)['Seats']\n",
    "print(corr)"
   ]
  },
  {
   "attachments": {},
   "cell_type": "markdown",
   "metadata": {},
   "source": [
    "## Analisar a Correlação"
   ]
  },
  {
   "cell_type": "code",
   "execution_count": 242,
   "metadata": {},
   "outputs": [
    {
     "data": {
      "text/plain": [
       "<Axes: >"
      ]
     },
     "execution_count": 242,
     "metadata": {},
     "output_type": "execute_result"
    },
    {
     "data": {
      "image/png": "[encoded data removed]",
      "text/plain": [
       "<Figure size 1000x1000 with 2 Axes>"
      ]
     },
     "metadata": {},
     "output_type": "display_data"
    }
   ],
   "source": [
    "fig = plt.figure(figsize=(10,10))\n",
    "\n",
    "corr = data.corr(method='pearson', numeric_only=True)\n",
    "sns.heatmap(corr, linecolor=\"black\", linewidths=0.5)"
   ]
  }
 ],
 "metadata": {
  "kernelspec": {
   "display_name": "DAA",
   "language": "python",
   "name": "python3"
  },
  "language_info": {
   "codemirror_mode": {
    "name": "ipython",
    "version": 3
   },
   "file_extension": ".py",
   "mimetype": "text/x-python",
   "name": "python",
   "nbconvert_exporter": "python",
   "pygments_lexer": "ipython3",
   "version": "3.10.0"
  },
  "orig_nbformat": 4
 },
 "nbformat": 4,
 "nbformat_minor": 2
}
