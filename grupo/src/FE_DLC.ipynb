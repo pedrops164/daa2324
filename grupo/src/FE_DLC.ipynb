{
 "cells": [
  {
   "cell_type": "markdown",
   "metadata": {
    "tags": []
   },
   "source": [
    "# Feature Engineering\n",
    "\n",
    "Parte: T-Bag\n",
    "\n",
    "Features:\n",
    "* Mileage\n",
    "* Transmission\n",
    "* Fuel_Type"
   ]
  },
  {
   "cell_type": "code",
   "execution_count": 1,
   "metadata": {
    "tags": []
   },
   "outputs": [],
   "source": [
    "import pandas as pd\n",
    "import matplotlib.pyplot as plt\n",
    "import seaborn as sns\n",
    "import numpy as np"
   ]
  },
  {
   "cell_type": "code",
   "execution_count": 2,
   "metadata": {
    "tags": []
   },
   "outputs": [
    {
     "data": {
      "text/html": [
       "<div>\n",
       "<style scoped>\n",
       "    .dataframe tbody tr th:only-of-type {\n",
       "        vertical-align: middle;\n",
       "    }\n",
       "\n",
       "    .dataframe tbody tr th {\n",
       "        vertical-align: top;\n",
       "    }\n",
       "\n",
       "    .dataframe thead th {\n",
       "        text-align: right;\n",
       "    }\n",
       "</style>\n",
       "<table border=\"1\" class=\"dataframe\">\n",
       "  <thead>\n",
       "    <tr style=\"text-align: right;\">\n",
       "      <th></th>\n",
       "      <th>Unnamed: 0</th>\n",
       "      <th>Name</th>\n",
       "      <th>Location</th>\n",
       "      <th>Year</th>\n",
       "      <th>Kilometers_Driven</th>\n",
       "      <th>Fuel_Type</th>\n",
       "      <th>Transmission</th>\n",
       "      <th>Owner_Type</th>\n",
       "      <th>Mileage</th>\n",
       "      <th>Engine</th>\n",
       "      <th>Power</th>\n",
       "      <th>Seats</th>\n",
       "      <th>New_Price</th>\n",
       "      <th>Price</th>\n",
       "    </tr>\n",
       "  </thead>\n",
       "  <tbody>\n",
       "    <tr>\n",
       "      <th>0</th>\n",
       "      <td>1</td>\n",
       "      <td>Hyundai Creta 1.6 CRDi SX Option</td>\n",
       "      <td>Pune</td>\n",
       "      <td>2015</td>\n",
       "      <td>41000</td>\n",
       "      <td>Diesel</td>\n",
       "      <td>Manual</td>\n",
       "      <td>First</td>\n",
       "      <td>19.67 kmpl</td>\n",
       "      <td>1582 CC</td>\n",
       "      <td>126.2 bhp</td>\n",
       "      <td>5.0</td>\n",
       "      <td>NaN</td>\n",
       "      <td>12.50</td>\n",
       "    </tr>\n",
       "    <tr>\n",
       "      <th>1</th>\n",
       "      <td>2</td>\n",
       "      <td>Honda Jazz V</td>\n",
       "      <td>Chennai</td>\n",
       "      <td>2011</td>\n",
       "      <td>46000</td>\n",
       "      <td>Petrol</td>\n",
       "      <td>Manual</td>\n",
       "      <td>First</td>\n",
       "      <td>13 km/kg</td>\n",
       "      <td>1199 CC</td>\n",
       "      <td>88.7 bhp</td>\n",
       "      <td>5.0</td>\n",
       "      <td>8.61 Lakh</td>\n",
       "      <td>4.50</td>\n",
       "    </tr>\n",
       "    <tr>\n",
       "      <th>2</th>\n",
       "      <td>3</td>\n",
       "      <td>Maruti Ertiga VDI</td>\n",
       "      <td>Chennai</td>\n",
       "      <td>2012</td>\n",
       "      <td>87000</td>\n",
       "      <td>Diesel</td>\n",
       "      <td>Manual</td>\n",
       "      <td>First</td>\n",
       "      <td>20.77 kmpl</td>\n",
       "      <td>1248 CC</td>\n",
       "      <td>88.76 bhp</td>\n",
       "      <td>7.0</td>\n",
       "      <td>NaN</td>\n",
       "      <td>6.00</td>\n",
       "    </tr>\n",
       "    <tr>\n",
       "      <th>3</th>\n",
       "      <td>4</td>\n",
       "      <td>Audi A4 New 2.0 TDI Multitronic</td>\n",
       "      <td>Coimbatore</td>\n",
       "      <td>2013</td>\n",
       "      <td>40670</td>\n",
       "      <td>Diesel</td>\n",
       "      <td>Automatic</td>\n",
       "      <td>Second</td>\n",
       "      <td>15.2 kmpl</td>\n",
       "      <td>1968 CC</td>\n",
       "      <td>140.8 bhp</td>\n",
       "      <td>5.0</td>\n",
       "      <td>NaN</td>\n",
       "      <td>17.74</td>\n",
       "    </tr>\n",
       "    <tr>\n",
       "      <th>4</th>\n",
       "      <td>6</td>\n",
       "      <td>Nissan Micra Diesel XV</td>\n",
       "      <td>Jaipur</td>\n",
       "      <td>2013</td>\n",
       "      <td>86999</td>\n",
       "      <td>Diesel</td>\n",
       "      <td>Manual</td>\n",
       "      <td>First</td>\n",
       "      <td>23.08 kmpl</td>\n",
       "      <td>1461 CC</td>\n",
       "      <td>63.1 bhp</td>\n",
       "      <td>5.0</td>\n",
       "      <td>NaN</td>\n",
       "      <td>3.50</td>\n",
       "    </tr>\n",
       "  </tbody>\n",
       "</table>\n",
       "</div>"
      ],
      "text/plain": [
       "   Unnamed: 0                              Name    Location  Year  \\\n",
       "0           1  Hyundai Creta 1.6 CRDi SX Option        Pune  2015   \n",
       "1           2                      Honda Jazz V     Chennai  2011   \n",
       "2           3                 Maruti Ertiga VDI     Chennai  2012   \n",
       "3           4   Audi A4 New 2.0 TDI Multitronic  Coimbatore  2013   \n",
       "4           6            Nissan Micra Diesel XV      Jaipur  2013   \n",
       "\n",
       "   Kilometers_Driven Fuel_Type Transmission Owner_Type     Mileage   Engine  \\\n",
       "0              41000    Diesel       Manual      First  19.67 kmpl  1582 CC   \n",
       "1              46000    Petrol       Manual      First    13 km/kg  1199 CC   \n",
       "2              87000    Diesel       Manual      First  20.77 kmpl  1248 CC   \n",
       "3              40670    Diesel    Automatic     Second   15.2 kmpl  1968 CC   \n",
       "4              86999    Diesel       Manual      First  23.08 kmpl  1461 CC   \n",
       "\n",
       "       Power  Seats  New_Price  Price  \n",
       "0  126.2 bhp    5.0        NaN  12.50  \n",
       "1   88.7 bhp    5.0  8.61 Lakh   4.50  \n",
       "2  88.76 bhp    7.0        NaN   6.00  \n",
       "3  140.8 bhp    5.0        NaN  17.74  \n",
       "4   63.1 bhp    5.0        NaN   3.50  "
      ]
     },
     "execution_count": 2,
     "metadata": {},
     "output_type": "execute_result"
    }
   ],
   "source": [
    "# import data\n",
    "data = pd.read_csv('../input/train.csv')\n",
    "# visualize first 5 rows\n",
    "data.head()"
   ]
  },
  {
   "cell_type": "code",
   "execution_count": 3,
   "metadata": {
    "tags": []
   },
   "outputs": [
    {
     "name": "stdout",
     "output_type": "stream",
     "text": [
      "Unnamed: 0              0\n",
      "Name                    0\n",
      "Location                0\n",
      "Year                    0\n",
      "Kilometers_Driven       0\n",
      "Fuel_Type               0\n",
      "Transmission            0\n",
      "Owner_Type              0\n",
      "Mileage                 2\n",
      "Engine                 36\n",
      "Power                  36\n",
      "Seats                  38\n",
      "New_Price            5032\n",
      "Price                   0\n",
      "dtype: int64\n"
     ]
    }
   ],
   "source": [
    "print(data.isnull().sum())"
   ]
  },
  {
   "cell_type": "markdown",
   "metadata": {
    "tags": []
   },
   "source": [
    "## Fuel_Type\n"
   ]
  },
  {
   "cell_type": "code",
   "execution_count": 4,
   "metadata": {
    "tags": []
   },
   "outputs": [
    {
     "name": "stdout",
     "output_type": "stream",
     "text": [
      "3\n",
      "['Diesel' 'Petrol' 'Electric']\n"
     ]
    }
   ],
   "source": [
    "print(data['Fuel_Type'].nunique())\n",
    "print(data['Fuel_Type'].unique())"
   ]
  },
  {
   "cell_type": "code",
   "execution_count": 5,
   "metadata": {
    "tags": []
   },
   "outputs": [
    {
     "data": {
      "image/png": "[encoded data removed]",
      "text/plain": [
       "<Figure size 640x480 with 1 Axes>"
      ]
     },
     "metadata": {},
     "output_type": "display_data"
    },
    {
     "name": "stdout",
     "output_type": "stream",
     "text": [
      "Fuel_Type\n",
      "Diesel      3161\n",
      "Petrol      2684\n",
      "Electric       2\n",
      "Name: count, dtype: int64\n"
     ]
    }
   ],
   "source": [
    "incidents_count = data['Fuel_Type'].value_counts()\n",
    "sns.set(style=\"darkgrid\")\n",
    "sns.barplot(x=incidents_count.index, y=incidents_count.values)\n",
    "plt.title('Frequency Distribution of Fuel_Type')\n",
    "plt.ylabel('Number of Occurences', fontsize=12)\n",
    "plt.xlabel('Fuel_Type', fontsize=12)\n",
    "plt.show()\n",
    "print(incidents_count)"
   ]
  },
  {
   "cell_type": "code",
   "execution_count": 6,
   "metadata": {
    "tags": []
   },
   "outputs": [
    {
     "data": {
      "image/png": "[encoded data removed]",
      "text/plain": [
       "<Figure size 640x480 with 1 Axes>"
      ]
     },
     "metadata": {},
     "output_type": "display_data"
    }
   ],
   "source": [
    "labels = data['Fuel_Type'].astype('category').cat.categories.tolist()\n",
    "counts = data['Fuel_Type'].value_counts()\n",
    "sizes = [counts[var_cat] for var_cat in labels]\n",
    "fig1, ax1 = plt.subplots()\n",
    "ax1.pie(sizes, labels=labels, autopct='%1.2f%%', shadow=True)\n",
    "ax1.axis('equal')\n",
    "plt.show()"
   ]
  },
  {
   "cell_type": "markdown",
   "metadata": {},
   "source": [
    "### Discretizar"
   ]
  },
  {
   "cell_type": "code",
   "execution_count": 7,
   "metadata": {
    "tags": []
   },
   "outputs": [
    {
     "name": "stdout",
     "output_type": "stream",
     "text": [
      "{'Fuel_Type': {'Diesel': 1, 'Petrol': 2, 'Eletric': 3}}\n"
     ]
    }
   ],
   "source": [
    "replace_map = {'Fuel_Type': { 'Diesel': 1, 'Petrol': 2, 'Eletric': 3}}\n",
    "print(replace_map)"
   ]
  },
  {
   "cell_type": "code",
   "execution_count": 8,
   "metadata": {
    "tags": []
   },
   "outputs": [
    {
     "data": {
      "text/html": [
       "<div>\n",
       "<style scoped>\n",
       "    .dataframe tbody tr th:only-of-type {\n",
       "        vertical-align: middle;\n",
       "    }\n",
       "\n",
       "    .dataframe tbody tr th {\n",
       "        vertical-align: top;\n",
       "    }\n",
       "\n",
       "    .dataframe thead th {\n",
       "        text-align: right;\n",
       "    }\n",
       "</style>\n",
       "<table border=\"1\" class=\"dataframe\">\n",
       "  <thead>\n",
       "    <tr style=\"text-align: right;\">\n",
       "      <th></th>\n",
       "      <th>Unnamed: 0</th>\n",
       "      <th>Name</th>\n",
       "      <th>Location</th>\n",
       "      <th>Year</th>\n",
       "      <th>Kilometers_Driven</th>\n",
       "      <th>Fuel_Type</th>\n",
       "      <th>Transmission</th>\n",
       "      <th>Owner_Type</th>\n",
       "      <th>Mileage</th>\n",
       "      <th>Engine</th>\n",
       "      <th>Power</th>\n",
       "      <th>Seats</th>\n",
       "      <th>New_Price</th>\n",
       "      <th>Price</th>\n",
       "    </tr>\n",
       "  </thead>\n",
       "  <tbody>\n",
       "    <tr>\n",
       "      <th>0</th>\n",
       "      <td>1</td>\n",
       "      <td>Hyundai Creta 1.6 CRDi SX Option</td>\n",
       "      <td>Pune</td>\n",
       "      <td>2015</td>\n",
       "      <td>41000</td>\n",
       "      <td>1</td>\n",
       "      <td>Manual</td>\n",
       "      <td>First</td>\n",
       "      <td>19.67 kmpl</td>\n",
       "      <td>1582 CC</td>\n",
       "      <td>126.2 bhp</td>\n",
       "      <td>5.0</td>\n",
       "      <td>NaN</td>\n",
       "      <td>12.50</td>\n",
       "    </tr>\n",
       "    <tr>\n",
       "      <th>1</th>\n",
       "      <td>2</td>\n",
       "      <td>Honda Jazz V</td>\n",
       "      <td>Chennai</td>\n",
       "      <td>2011</td>\n",
       "      <td>46000</td>\n",
       "      <td>2</td>\n",
       "      <td>Manual</td>\n",
       "      <td>First</td>\n",
       "      <td>13 km/kg</td>\n",
       "      <td>1199 CC</td>\n",
       "      <td>88.7 bhp</td>\n",
       "      <td>5.0</td>\n",
       "      <td>8.61 Lakh</td>\n",
       "      <td>4.50</td>\n",
       "    </tr>\n",
       "    <tr>\n",
       "      <th>2</th>\n",
       "      <td>3</td>\n",
       "      <td>Maruti Ertiga VDI</td>\n",
       "      <td>Chennai</td>\n",
       "      <td>2012</td>\n",
       "      <td>87000</td>\n",
       "      <td>1</td>\n",
       "      <td>Manual</td>\n",
       "      <td>First</td>\n",
       "      <td>20.77 kmpl</td>\n",
       "      <td>1248 CC</td>\n",
       "      <td>88.76 bhp</td>\n",
       "      <td>7.0</td>\n",
       "      <td>NaN</td>\n",
       "      <td>6.00</td>\n",
       "    </tr>\n",
       "    <tr>\n",
       "      <th>3</th>\n",
       "      <td>4</td>\n",
       "      <td>Audi A4 New 2.0 TDI Multitronic</td>\n",
       "      <td>Coimbatore</td>\n",
       "      <td>2013</td>\n",
       "      <td>40670</td>\n",
       "      <td>1</td>\n",
       "      <td>Automatic</td>\n",
       "      <td>Second</td>\n",
       "      <td>15.2 kmpl</td>\n",
       "      <td>1968 CC</td>\n",
       "      <td>140.8 bhp</td>\n",
       "      <td>5.0</td>\n",
       "      <td>NaN</td>\n",
       "      <td>17.74</td>\n",
       "    </tr>\n",
       "    <tr>\n",
       "      <th>4</th>\n",
       "      <td>6</td>\n",
       "      <td>Nissan Micra Diesel XV</td>\n",
       "      <td>Jaipur</td>\n",
       "      <td>2013</td>\n",
       "      <td>86999</td>\n",
       "      <td>1</td>\n",
       "      <td>Manual</td>\n",
       "      <td>First</td>\n",
       "      <td>23.08 kmpl</td>\n",
       "      <td>1461 CC</td>\n",
       "      <td>63.1 bhp</td>\n",
       "      <td>5.0</td>\n",
       "      <td>NaN</td>\n",
       "      <td>3.50</td>\n",
       "    </tr>\n",
       "    <tr>\n",
       "      <th>...</th>\n",
       "      <td>...</td>\n",
       "      <td>...</td>\n",
       "      <td>...</td>\n",
       "      <td>...</td>\n",
       "      <td>...</td>\n",
       "      <td>...</td>\n",
       "      <td>...</td>\n",
       "      <td>...</td>\n",
       "      <td>...</td>\n",
       "      <td>...</td>\n",
       "      <td>...</td>\n",
       "      <td>...</td>\n",
       "      <td>...</td>\n",
       "      <td>...</td>\n",
       "    </tr>\n",
       "    <tr>\n",
       "      <th>5842</th>\n",
       "      <td>6014</td>\n",
       "      <td>Maruti Swift VDI</td>\n",
       "      <td>Delhi</td>\n",
       "      <td>2014</td>\n",
       "      <td>27365</td>\n",
       "      <td>1</td>\n",
       "      <td>Manual</td>\n",
       "      <td>First</td>\n",
       "      <td>28.4 kmpl</td>\n",
       "      <td>1248 CC</td>\n",
       "      <td>74 bhp</td>\n",
       "      <td>5.0</td>\n",
       "      <td>7.88 Lakh</td>\n",
       "      <td>4.75</td>\n",
       "    </tr>\n",
       "    <tr>\n",
       "      <th>5843</th>\n",
       "      <td>6015</td>\n",
       "      <td>Hyundai Xcent 1.1 CRDi S</td>\n",
       "      <td>Jaipur</td>\n",
       "      <td>2015</td>\n",
       "      <td>100000</td>\n",
       "      <td>1</td>\n",
       "      <td>Manual</td>\n",
       "      <td>First</td>\n",
       "      <td>24.4 kmpl</td>\n",
       "      <td>1120 CC</td>\n",
       "      <td>71 bhp</td>\n",
       "      <td>5.0</td>\n",
       "      <td>NaN</td>\n",
       "      <td>4.00</td>\n",
       "    </tr>\n",
       "    <tr>\n",
       "      <th>5844</th>\n",
       "      <td>6016</td>\n",
       "      <td>Mahindra Xylo D4 BSIV</td>\n",
       "      <td>Jaipur</td>\n",
       "      <td>2012</td>\n",
       "      <td>55000</td>\n",
       "      <td>1</td>\n",
       "      <td>Manual</td>\n",
       "      <td>Second</td>\n",
       "      <td>14.0 kmpl</td>\n",
       "      <td>2498 CC</td>\n",
       "      <td>112 bhp</td>\n",
       "      <td>8.0</td>\n",
       "      <td>NaN</td>\n",
       "      <td>2.90</td>\n",
       "    </tr>\n",
       "    <tr>\n",
       "      <th>5845</th>\n",
       "      <td>6017</td>\n",
       "      <td>Maruti Wagon R VXI</td>\n",
       "      <td>Kolkata</td>\n",
       "      <td>2013</td>\n",
       "      <td>46000</td>\n",
       "      <td>2</td>\n",
       "      <td>Manual</td>\n",
       "      <td>First</td>\n",
       "      <td>18.9 kmpl</td>\n",
       "      <td>998 CC</td>\n",
       "      <td>67.1 bhp</td>\n",
       "      <td>5.0</td>\n",
       "      <td>NaN</td>\n",
       "      <td>2.65</td>\n",
       "    </tr>\n",
       "    <tr>\n",
       "      <th>5846</th>\n",
       "      <td>6018</td>\n",
       "      <td>Chevrolet Beat Diesel</td>\n",
       "      <td>Hyderabad</td>\n",
       "      <td>2011</td>\n",
       "      <td>47000</td>\n",
       "      <td>1</td>\n",
       "      <td>Manual</td>\n",
       "      <td>First</td>\n",
       "      <td>25.44 kmpl</td>\n",
       "      <td>936 CC</td>\n",
       "      <td>57.6 bhp</td>\n",
       "      <td>5.0</td>\n",
       "      <td>NaN</td>\n",
       "      <td>2.50</td>\n",
       "    </tr>\n",
       "  </tbody>\n",
       "</table>\n",
       "<p>5847 rows × 14 columns</p>\n",
       "</div>"
      ],
      "text/plain": [
       "      Unnamed: 0                              Name    Location  Year  \\\n",
       "0              1  Hyundai Creta 1.6 CRDi SX Option        Pune  2015   \n",
       "1              2                      Honda Jazz V     Chennai  2011   \n",
       "2              3                 Maruti Ertiga VDI     Chennai  2012   \n",
       "3              4   Audi A4 New 2.0 TDI Multitronic  Coimbatore  2013   \n",
       "4              6            Nissan Micra Diesel XV      Jaipur  2013   \n",
       "...          ...                               ...         ...   ...   \n",
       "5842        6014                  Maruti Swift VDI       Delhi  2014   \n",
       "5843        6015          Hyundai Xcent 1.1 CRDi S      Jaipur  2015   \n",
       "5844        6016             Mahindra Xylo D4 BSIV      Jaipur  2012   \n",
       "5845        6017                Maruti Wagon R VXI     Kolkata  2013   \n",
       "5846        6018             Chevrolet Beat Diesel   Hyderabad  2011   \n",
       "\n",
       "      Kilometers_Driven Fuel_Type Transmission Owner_Type     Mileage  \\\n",
       "0                 41000         1       Manual      First  19.67 kmpl   \n",
       "1                 46000         2       Manual      First    13 km/kg   \n",
       "2                 87000         1       Manual      First  20.77 kmpl   \n",
       "3                 40670         1    Automatic     Second   15.2 kmpl   \n",
       "4                 86999         1       Manual      First  23.08 kmpl   \n",
       "...                 ...       ...          ...        ...         ...   \n",
       "5842              27365         1       Manual      First   28.4 kmpl   \n",
       "5843             100000         1       Manual      First   24.4 kmpl   \n",
       "5844              55000         1       Manual     Second   14.0 kmpl   \n",
       "5845              46000         2       Manual      First   18.9 kmpl   \n",
       "5846              47000         1       Manual      First  25.44 kmpl   \n",
       "\n",
       "       Engine      Power  Seats  New_Price  Price  \n",
       "0     1582 CC  126.2 bhp    5.0        NaN  12.50  \n",
       "1     1199 CC   88.7 bhp    5.0  8.61 Lakh   4.50  \n",
       "2     1248 CC  88.76 bhp    7.0        NaN   6.00  \n",
       "3     1968 CC  140.8 bhp    5.0        NaN  17.74  \n",
       "4     1461 CC   63.1 bhp    5.0        NaN   3.50  \n",
       "...       ...        ...    ...        ...    ...  \n",
       "5842  1248 CC     74 bhp    5.0  7.88 Lakh   4.75  \n",
       "5843  1120 CC     71 bhp    5.0        NaN   4.00  \n",
       "5844  2498 CC    112 bhp    8.0        NaN   2.90  \n",
       "5845   998 CC   67.1 bhp    5.0        NaN   2.65  \n",
       "5846   936 CC   57.6 bhp    5.0        NaN   2.50  \n",
       "\n",
       "[5847 rows x 14 columns]"
      ]
     },
     "execution_count": 8,
     "metadata": {},
     "output_type": "execute_result"
    }
   ],
   "source": [
    "data.replace(replace_map, inplace=True)\n",
    "data"
   ]
  },
  {
   "cell_type": "markdown",
   "metadata": {},
   "source": [
    "## Transmission"
   ]
  },
  {
   "cell_type": "markdown",
   "metadata": {},
   "source": [
    "Analisar os valores e se tem valores em falta"
   ]
  },
  {
   "cell_type": "code",
   "execution_count": 9,
   "metadata": {
    "tags": []
   },
   "outputs": [
    {
     "name": "stdout",
     "output_type": "stream",
     "text": [
      "Número de valores em falta: 0\n",
      "Número de valores distintos: 2\n",
      "Tipo da coluna object\n",
      "0       Manual\n",
      "1       Manual\n",
      "2       Manual\n",
      "3    Automatic\n",
      "4       Manual\n",
      "Name: Transmission, dtype: object\n"
     ]
    }
   ],
   "source": [
    "print(f\"Número de valores em falta: {data['Transmission'].isnull().sum()}\")\n",
    "print(f\"Número de valores distintos: {data['Transmission'].nunique()}\")\n",
    "print(f\"Tipo da coluna {data['Transmission'].dtypes}\")\n",
    "print(data['Transmission'].head())"
   ]
  },
  {
   "cell_type": "code",
   "execution_count": 10,
   "metadata": {
    "tags": []
   },
   "outputs": [
    {
     "data": {
      "image/png": "[encoded data removed]",
      "text/plain": [
       "<Figure size 640x480 with 1 Axes>"
      ]
     },
     "metadata": {},
     "output_type": "display_data"
    },
    {
     "name": "stdout",
     "output_type": "stream",
     "text": [
      "Transmission\n",
      "Manual       4135\n",
      "Automatic    1712\n",
      "Name: count, dtype: int64\n"
     ]
    }
   ],
   "source": [
    "incidents_count = data['Transmission'].value_counts()\n",
    "sns.set(style=\"darkgrid\")\n",
    "sns.barplot(x=incidents_count.index, y=incidents_count.values)\n",
    "plt.title('Frequency Distribution of Transmission')\n",
    "plt.ylabel('Number of Occurences', fontsize=12)\n",
    "plt.xlabel('Transmission', fontsize=12)\n",
    "plt.show()\n",
    "print(incidents_count)"
   ]
  },
  {
   "cell_type": "code",
   "execution_count": 11,
   "metadata": {
    "tags": []
   },
   "outputs": [
    {
     "data": {
      "image/png": "[encoded data removed]",
      "text/plain": [
       "<Figure size 640x480 with 1 Axes>"
      ]
     },
     "metadata": {},
     "output_type": "display_data"
    }
   ],
   "source": [
    "labels = data['Transmission'].astype('category').cat.categories.tolist()\n",
    "counts = data['Transmission'].value_counts()\n",
    "sizes = [counts[var_cat] for var_cat in labels]\n",
    "fig1, ax1 = plt.subplots()\n",
    "ax1.pie(sizes, labels=labels, autopct='%1.2f%%', shadow=True)\n",
    "ax1.axis('equal')\n",
    "plt.show()"
   ]
  },
  {
   "cell_type": "code",
   "execution_count": 12,
   "metadata": {
    "tags": []
   },
   "outputs": [
    {
     "name": "stdout",
     "output_type": "stream",
     "text": [
      "{'Transmission': {'Manual': 1, 'Automatic': 2}}\n"
     ]
    }
   ],
   "source": [
    "replace_map2 = {'Transmission': { 'Manual': 1, 'Automatic': 2}}\n",
    "print(replace_map2)"
   ]
  },
  {
   "cell_type": "code",
   "execution_count": 13,
   "metadata": {
    "tags": []
   },
   "outputs": [
    {
     "data": {
      "text/html": [
       "<div>\n",
       "<style scoped>\n",
       "    .dataframe tbody tr th:only-of-type {\n",
       "        vertical-align: middle;\n",
       "    }\n",
       "\n",
       "    .dataframe tbody tr th {\n",
       "        vertical-align: top;\n",
       "    }\n",
       "\n",
       "    .dataframe thead th {\n",
       "        text-align: right;\n",
       "    }\n",
       "</style>\n",
       "<table border=\"1\" class=\"dataframe\">\n",
       "  <thead>\n",
       "    <tr style=\"text-align: right;\">\n",
       "      <th></th>\n",
       "      <th>Unnamed: 0</th>\n",
       "      <th>Name</th>\n",
       "      <th>Location</th>\n",
       "      <th>Year</th>\n",
       "      <th>Kilometers_Driven</th>\n",
       "      <th>Fuel_Type</th>\n",
       "      <th>Transmission</th>\n",
       "      <th>Owner_Type</th>\n",
       "      <th>Mileage</th>\n",
       "      <th>Engine</th>\n",
       "      <th>Power</th>\n",
       "      <th>Seats</th>\n",
       "      <th>New_Price</th>\n",
       "      <th>Price</th>\n",
       "    </tr>\n",
       "  </thead>\n",
       "  <tbody>\n",
       "    <tr>\n",
       "      <th>0</th>\n",
       "      <td>1</td>\n",
       "      <td>Hyundai Creta 1.6 CRDi SX Option</td>\n",
       "      <td>Pune</td>\n",
       "      <td>2015</td>\n",
       "      <td>41000</td>\n",
       "      <td>1</td>\n",
       "      <td>1</td>\n",
       "      <td>First</td>\n",
       "      <td>19.67 kmpl</td>\n",
       "      <td>1582 CC</td>\n",
       "      <td>126.2 bhp</td>\n",
       "      <td>5.0</td>\n",
       "      <td>NaN</td>\n",
       "      <td>12.50</td>\n",
       "    </tr>\n",
       "    <tr>\n",
       "      <th>1</th>\n",
       "      <td>2</td>\n",
       "      <td>Honda Jazz V</td>\n",
       "      <td>Chennai</td>\n",
       "      <td>2011</td>\n",
       "      <td>46000</td>\n",
       "      <td>2</td>\n",
       "      <td>1</td>\n",
       "      <td>First</td>\n",
       "      <td>13 km/kg</td>\n",
       "      <td>1199 CC</td>\n",
       "      <td>88.7 bhp</td>\n",
       "      <td>5.0</td>\n",
       "      <td>8.61 Lakh</td>\n",
       "      <td>4.50</td>\n",
       "    </tr>\n",
       "    <tr>\n",
       "      <th>2</th>\n",
       "      <td>3</td>\n",
       "      <td>Maruti Ertiga VDI</td>\n",
       "      <td>Chennai</td>\n",
       "      <td>2012</td>\n",
       "      <td>87000</td>\n",
       "      <td>1</td>\n",
       "      <td>1</td>\n",
       "      <td>First</td>\n",
       "      <td>20.77 kmpl</td>\n",
       "      <td>1248 CC</td>\n",
       "      <td>88.76 bhp</td>\n",
       "      <td>7.0</td>\n",
       "      <td>NaN</td>\n",
       "      <td>6.00</td>\n",
       "    </tr>\n",
       "    <tr>\n",
       "      <th>3</th>\n",
       "      <td>4</td>\n",
       "      <td>Audi A4 New 2.0 TDI Multitronic</td>\n",
       "      <td>Coimbatore</td>\n",
       "      <td>2013</td>\n",
       "      <td>40670</td>\n",
       "      <td>1</td>\n",
       "      <td>2</td>\n",
       "      <td>Second</td>\n",
       "      <td>15.2 kmpl</td>\n",
       "      <td>1968 CC</td>\n",
       "      <td>140.8 bhp</td>\n",
       "      <td>5.0</td>\n",
       "      <td>NaN</td>\n",
       "      <td>17.74</td>\n",
       "    </tr>\n",
       "    <tr>\n",
       "      <th>4</th>\n",
       "      <td>6</td>\n",
       "      <td>Nissan Micra Diesel XV</td>\n",
       "      <td>Jaipur</td>\n",
       "      <td>2013</td>\n",
       "      <td>86999</td>\n",
       "      <td>1</td>\n",
       "      <td>1</td>\n",
       "      <td>First</td>\n",
       "      <td>23.08 kmpl</td>\n",
       "      <td>1461 CC</td>\n",
       "      <td>63.1 bhp</td>\n",
       "      <td>5.0</td>\n",
       "      <td>NaN</td>\n",
       "      <td>3.50</td>\n",
       "    </tr>\n",
       "    <tr>\n",
       "      <th>...</th>\n",
       "      <td>...</td>\n",
       "      <td>...</td>\n",
       "      <td>...</td>\n",
       "      <td>...</td>\n",
       "      <td>...</td>\n",
       "      <td>...</td>\n",
       "      <td>...</td>\n",
       "      <td>...</td>\n",
       "      <td>...</td>\n",
       "      <td>...</td>\n",
       "      <td>...</td>\n",
       "      <td>...</td>\n",
       "      <td>...</td>\n",
       "      <td>...</td>\n",
       "    </tr>\n",
       "    <tr>\n",
       "      <th>5842</th>\n",
       "      <td>6014</td>\n",
       "      <td>Maruti Swift VDI</td>\n",
       "      <td>Delhi</td>\n",
       "      <td>2014</td>\n",
       "      <td>27365</td>\n",
       "      <td>1</td>\n",
       "      <td>1</td>\n",
       "      <td>First</td>\n",
       "      <td>28.4 kmpl</td>\n",
       "      <td>1248 CC</td>\n",
       "      <td>74 bhp</td>\n",
       "      <td>5.0</td>\n",
       "      <td>7.88 Lakh</td>\n",
       "      <td>4.75</td>\n",
       "    </tr>\n",
       "    <tr>\n",
       "      <th>5843</th>\n",
       "      <td>6015</td>\n",
       "      <td>Hyundai Xcent 1.1 CRDi S</td>\n",
       "      <td>Jaipur</td>\n",
       "      <td>2015</td>\n",
       "      <td>100000</td>\n",
       "      <td>1</td>\n",
       "      <td>1</td>\n",
       "      <td>First</td>\n",
       "      <td>24.4 kmpl</td>\n",
       "      <td>1120 CC</td>\n",
       "      <td>71 bhp</td>\n",
       "      <td>5.0</td>\n",
       "      <td>NaN</td>\n",
       "      <td>4.00</td>\n",
       "    </tr>\n",
       "    <tr>\n",
       "      <th>5844</th>\n",
       "      <td>6016</td>\n",
       "      <td>Mahindra Xylo D4 BSIV</td>\n",
       "      <td>Jaipur</td>\n",
       "      <td>2012</td>\n",
       "      <td>55000</td>\n",
       "      <td>1</td>\n",
       "      <td>1</td>\n",
       "      <td>Second</td>\n",
       "      <td>14.0 kmpl</td>\n",
       "      <td>2498 CC</td>\n",
       "      <td>112 bhp</td>\n",
       "      <td>8.0</td>\n",
       "      <td>NaN</td>\n",
       "      <td>2.90</td>\n",
       "    </tr>\n",
       "    <tr>\n",
       "      <th>5845</th>\n",
       "      <td>6017</td>\n",
       "      <td>Maruti Wagon R VXI</td>\n",
       "      <td>Kolkata</td>\n",
       "      <td>2013</td>\n",
       "      <td>46000</td>\n",
       "      <td>2</td>\n",
       "      <td>1</td>\n",
       "      <td>First</td>\n",
       "      <td>18.9 kmpl</td>\n",
       "      <td>998 CC</td>\n",
       "      <td>67.1 bhp</td>\n",
       "      <td>5.0</td>\n",
       "      <td>NaN</td>\n",
       "      <td>2.65</td>\n",
       "    </tr>\n",
       "    <tr>\n",
       "      <th>5846</th>\n",
       "      <td>6018</td>\n",
       "      <td>Chevrolet Beat Diesel</td>\n",
       "      <td>Hyderabad</td>\n",
       "      <td>2011</td>\n",
       "      <td>47000</td>\n",
       "      <td>1</td>\n",
       "      <td>1</td>\n",
       "      <td>First</td>\n",
       "      <td>25.44 kmpl</td>\n",
       "      <td>936 CC</td>\n",
       "      <td>57.6 bhp</td>\n",
       "      <td>5.0</td>\n",
       "      <td>NaN</td>\n",
       "      <td>2.50</td>\n",
       "    </tr>\n",
       "  </tbody>\n",
       "</table>\n",
       "<p>5847 rows × 14 columns</p>\n",
       "</div>"
      ],
      "text/plain": [
       "      Unnamed: 0                              Name    Location  Year  \\\n",
       "0              1  Hyundai Creta 1.6 CRDi SX Option        Pune  2015   \n",
       "1              2                      Honda Jazz V     Chennai  2011   \n",
       "2              3                 Maruti Ertiga VDI     Chennai  2012   \n",
       "3              4   Audi A4 New 2.0 TDI Multitronic  Coimbatore  2013   \n",
       "4              6            Nissan Micra Diesel XV      Jaipur  2013   \n",
       "...          ...                               ...         ...   ...   \n",
       "5842        6014                  Maruti Swift VDI       Delhi  2014   \n",
       "5843        6015          Hyundai Xcent 1.1 CRDi S      Jaipur  2015   \n",
       "5844        6016             Mahindra Xylo D4 BSIV      Jaipur  2012   \n",
       "5845        6017                Maruti Wagon R VXI     Kolkata  2013   \n",
       "5846        6018             Chevrolet Beat Diesel   Hyderabad  2011   \n",
       "\n",
       "      Kilometers_Driven Fuel_Type  Transmission Owner_Type     Mileage  \\\n",
       "0                 41000         1             1      First  19.67 kmpl   \n",
       "1                 46000         2             1      First    13 km/kg   \n",
       "2                 87000         1             1      First  20.77 kmpl   \n",
       "3                 40670         1             2     Second   15.2 kmpl   \n",
       "4                 86999         1             1      First  23.08 kmpl   \n",
       "...                 ...       ...           ...        ...         ...   \n",
       "5842              27365         1             1      First   28.4 kmpl   \n",
       "5843             100000         1             1      First   24.4 kmpl   \n",
       "5844              55000         1             1     Second   14.0 kmpl   \n",
       "5845              46000         2             1      First   18.9 kmpl   \n",
       "5846              47000         1             1      First  25.44 kmpl   \n",
       "\n",
       "       Engine      Power  Seats  New_Price  Price  \n",
       "0     1582 CC  126.2 bhp    5.0        NaN  12.50  \n",
       "1     1199 CC   88.7 bhp    5.0  8.61 Lakh   4.50  \n",
       "2     1248 CC  88.76 bhp    7.0        NaN   6.00  \n",
       "3     1968 CC  140.8 bhp    5.0        NaN  17.74  \n",
       "4     1461 CC   63.1 bhp    5.0        NaN   3.50  \n",
       "...       ...        ...    ...        ...    ...  \n",
       "5842  1248 CC     74 bhp    5.0  7.88 Lakh   4.75  \n",
       "5843  1120 CC     71 bhp    5.0        NaN   4.00  \n",
       "5844  2498 CC    112 bhp    8.0        NaN   2.90  \n",
       "5845   998 CC   67.1 bhp    5.0        NaN   2.65  \n",
       "5846   936 CC   57.6 bhp    5.0        NaN   2.50  \n",
       "\n",
       "[5847 rows x 14 columns]"
      ]
     },
     "execution_count": 13,
     "metadata": {},
     "output_type": "execute_result"
    }
   ],
   "source": [
    "data.replace(replace_map2, inplace=True)\n",
    "data"
   ]
  },
  {
   "cell_type": "code",
   "execution_count": 14,
   "metadata": {
    "tags": []
   },
   "outputs": [],
   "source": [
    "## Mileage"
   ]
  },
  {
   "cell_type": "code",
   "execution_count": 31,
   "metadata": {
    "tags": []
   },
   "outputs": [
    {
     "name": "stdout",
     "output_type": "stream",
     "text": [
      "Número de valores em falta: 2\n",
      "Número de valores distintos: 419\n",
      "Tipo da coluna object\n",
      "0    19.67 kmpl\n",
      "1      13 km/kg\n",
      "2    20.77 kmpl\n",
      "3     15.2 kmpl\n",
      "4    23.08 kmpl\n",
      "Name: Mileage, dtype: object\n",
      "5845\n"
     ]
    }
   ],
   "source": [
    "print(f\"Número de valores em falta: {data['Mileage'].isnull().sum()}\")\n",
    "print(f\"Número de valores distintos: {data['Mileage'].nunique()}\")\n",
    "print(f\"Tipo da coluna {data['Mileage'].dtypes}\")\n",
    "print(data['Mileage'].head())\n",
    "print(data['Mileage'].count())"
   ]
  },
  {
   "cell_type": "markdown",
   "metadata": {},
   "source": [
    "Após uma análise inicial, conseguimos verificar a existência de 2 missing values. Vamos procedir com a remoção dos mesmos"
   ]
  },
  {
   "cell_type": "code",
   "execution_count": 34,
   "metadata": {
    "tags": []
   },
   "outputs": [],
   "source": [
    "data = data[data['Mileage'].notna()]"
   ]
  },
  {
   "cell_type": "code",
   "execution_count": 35,
   "metadata": {
    "tags": []
   },
   "outputs": [
    {
     "name": "stdout",
     "output_type": "stream",
     "text": [
      "Número de valores em falta: 0\n",
      "Número de valores distintos: 419\n",
      "Tipo da coluna object\n",
      "0    19.67 kmpl\n",
      "1      13 km/kg\n",
      "2    20.77 kmpl\n",
      "3     15.2 kmpl\n",
      "4    23.08 kmpl\n",
      "Name: Mileage, dtype: object\n",
      "5845\n"
     ]
    }
   ],
   "source": [
    "print(f\"Número de valores em falta: {data['Mileage'].isnull().sum()}\")\n",
    "\n"
   ]
  },
  {
   "cell_type": "markdown",
   "metadata": {},
   "source": [
    "De seguida, trataremos do problema de existirem 2 tipos de unidades: km/kg e kmpl. Como o valor de km/kg é bastante menor que kmpl iremos converter estas unidades para kmpl."
   ]
  },
  {
   "cell_type": "code",
   "execution_count": 75,
   "metadata": {
    "tags": []
   },
   "outputs": [],
   "source": [
    "MileageKMPL = []\n",
    "\n",
    "\n",
    "for index,row in data.iterrows():\n",
    "    m = row['Mileage']\n",
    "    if 'km/kg' in m:\n",
    "        m = m[:-6]\n",
    "        if 1==row['Fuel_Type']:\n",
    "            m = float(m)*0.84\n",
    "            MileageKMPL.append(float(m))\n",
    "        else:\n",
    "            m = float(m)*0.75\n",
    "            MileageKMPL.append(float(m))\n",
    "    else:\n",
    "        m = m[:-5]\n",
    "        MileageKMPL.append(float(m))"
   ]
  },
  {
   "cell_type": "code",
   "execution_count": 76,
   "metadata": {
    "tags": []
   },
   "outputs": [
    {
     "data": {
      "text/plain": [
       "0    19.67\n",
       "1     9.75\n",
       "2    20.77\n",
       "3    15.20\n",
       "4    23.08\n",
       "Name: Mileage, dtype: float64"
      ]
     },
     "execution_count": 76,
     "metadata": {},
     "output_type": "execute_result"
    }
   ],
   "source": [
    "data['Mileage']=MileageKMPL\n",
    "data.Mileage.head()"
   ]
  }
 ],
 "metadata": {
  "kernelspec": {
   "display_name": "Python 3 (ipykernel)",
   "language": "python",
   "name": "python3"
  },
  "language_info": {
   "codemirror_mode": {
    "name": "ipython",
    "version": 3
   },
   "file_extension": ".py",
   "mimetype": "text/x-python",
   "name": "python",
   "nbconvert_exporter": "python",
   "pygments_lexer": "ipython3",
   "version": "3.11.4"
  }
 },
 "nbformat": 4,
 "nbformat_minor": 4
}
